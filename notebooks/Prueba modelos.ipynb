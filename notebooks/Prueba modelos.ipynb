{
 "cells": [
  {
   "cell_type": "code",
   "execution_count": 1,
   "id": "0e079eb4",
   "metadata": {},
   "outputs": [],
   "source": [
    "import numpy as np\n",
    "import pandas as pd"
   ]
  },
  {
   "cell_type": "code",
   "execution_count": 2,
   "id": "32596715",
   "metadata": {},
   "outputs": [],
   "source": [
    "# Abrimos archivo CSV previamente procesado \n",
    "archivo = '../Data/data_pre_procesada.csv'\n",
    "\n",
    "data = pd.read_csv(archivo)"
   ]
  },
  {
   "cell_type": "code",
   "execution_count": 3,
   "id": "1cb8d25d",
   "metadata": {},
   "outputs": [
    {
     "data": {
      "text/html": [
       "<div>\n",
       "<style scoped>\n",
       "    .dataframe tbody tr th:only-of-type {\n",
       "        vertical-align: middle;\n",
       "    }\n",
       "\n",
       "    .dataframe tbody tr th {\n",
       "        vertical-align: top;\n",
       "    }\n",
       "\n",
       "    .dataframe thead th {\n",
       "        text-align: right;\n",
       "    }\n",
       "</style>\n",
       "<table border=\"1\" class=\"dataframe\">\n",
       "  <thead>\n",
       "    <tr style=\"text-align: right;\">\n",
       "      <th></th>\n",
       "      <th>Coleccion</th>\n",
       "      <th>Referencia</th>\n",
       "      <th>Descripcion</th>\n",
       "      <th>Color</th>\n",
       "      <th>No.Pedido</th>\n",
       "      <th>Tot_Piezas</th>\n",
       "      <th>Costo_Fabrica</th>\n",
       "      <th>Precio_Venta</th>\n",
       "      <th>Pais_Producto</th>\n",
       "      <th>Cta_Cliente</th>\n",
       "      <th>Nombre_Cliente</th>\n",
       "      <th>Estatus</th>\n",
       "      <th>Plataforma</th>\n",
       "      <th>familia</th>\n",
       "      <th>Pais_Producto_fil</th>\n",
       "      <th>Cta_Cliente_final</th>\n",
       "      <th>Temporada</th>\n",
       "      <th>Nueva_Coleccion</th>\n",
       "    </tr>\n",
       "  </thead>\n",
       "  <tbody>\n",
       "    <tr>\n",
       "      <th>0</th>\n",
       "      <td>FW2016</td>\n",
       "      <td>RK2321</td>\n",
       "      <td>GORRA LACOSTE PARA CABALLERO</td>\n",
       "      <td>001</td>\n",
       "      <td>5597</td>\n",
       "      <td>6.0</td>\n",
       "      <td>15.65</td>\n",
       "      <td>25.0</td>\n",
       "      <td>china</td>\n",
       "      <td>2313076</td>\n",
       "      <td>RIPOSTO,S.A.</td>\n",
       "      <td>EN SISTEMA</td>\n",
       "      <td>ASIA</td>\n",
       "      <td>RK</td>\n",
       "      <td>china</td>\n",
       "      <td>2313076</td>\n",
       "      <td>FW</td>\n",
       "      <td>2016-11-01</td>\n",
       "    </tr>\n",
       "    <tr>\n",
       "      <th>1</th>\n",
       "      <td>FW2016</td>\n",
       "      <td>RK2321</td>\n",
       "      <td>GORRA LACOSTE PARA CABALLERO</td>\n",
       "      <td>001</td>\n",
       "      <td>5630</td>\n",
       "      <td>2.0</td>\n",
       "      <td>15.65</td>\n",
       "      <td>25.0</td>\n",
       "      <td>china</td>\n",
       "      <td>2224074</td>\n",
       "      <td>ICOSAL S.A. DE C.V.</td>\n",
       "      <td>EN SISTEMA</td>\n",
       "      <td>ASIA</td>\n",
       "      <td>RK</td>\n",
       "      <td>china</td>\n",
       "      <td>2224074</td>\n",
       "      <td>FW</td>\n",
       "      <td>2016-11-01</td>\n",
       "    </tr>\n",
       "    <tr>\n",
       "      <th>2</th>\n",
       "      <td>FW2016</td>\n",
       "      <td>RK2321</td>\n",
       "      <td>GORRA LACOSTE PARA CABALLERO</td>\n",
       "      <td>001</td>\n",
       "      <td>5631</td>\n",
       "      <td>2.0</td>\n",
       "      <td>15.65</td>\n",
       "      <td>25.0</td>\n",
       "      <td>china</td>\n",
       "      <td>2224090</td>\n",
       "      <td>ICOSAL,S.A. AEROPUERT</td>\n",
       "      <td>EN SISTEMA</td>\n",
       "      <td>ASIA</td>\n",
       "      <td>RK</td>\n",
       "      <td>china</td>\n",
       "      <td>2224090</td>\n",
       "      <td>FW</td>\n",
       "      <td>2016-11-01</td>\n",
       "    </tr>\n",
       "    <tr>\n",
       "      <th>3</th>\n",
       "      <td>FW2016</td>\n",
       "      <td>RK2321</td>\n",
       "      <td>GORRA LACOSTE PARA CABALLERO</td>\n",
       "      <td>001</td>\n",
       "      <td>5635</td>\n",
       "      <td>5.0</td>\n",
       "      <td>15.65</td>\n",
       "      <td>25.0</td>\n",
       "      <td>china</td>\n",
       "      <td>2209051</td>\n",
       "      <td>INVERSIONES MONTIJO, S.A.</td>\n",
       "      <td>EN SISTEMA</td>\n",
       "      <td>ASIA</td>\n",
       "      <td>RK</td>\n",
       "      <td>china</td>\n",
       "      <td>2209051</td>\n",
       "      <td>FW</td>\n",
       "      <td>2016-11-01</td>\n",
       "    </tr>\n",
       "    <tr>\n",
       "      <th>4</th>\n",
       "      <td>FW2016</td>\n",
       "      <td>RK2321</td>\n",
       "      <td>GORRA LACOSTE PARA CABALLERO</td>\n",
       "      <td>031</td>\n",
       "      <td>5597</td>\n",
       "      <td>6.0</td>\n",
       "      <td>15.65</td>\n",
       "      <td>25.0</td>\n",
       "      <td>china</td>\n",
       "      <td>2313076</td>\n",
       "      <td>RIPOSTO,S.A.</td>\n",
       "      <td>EN SISTEMA</td>\n",
       "      <td>ASIA</td>\n",
       "      <td>RK</td>\n",
       "      <td>china</td>\n",
       "      <td>2313076</td>\n",
       "      <td>FW</td>\n",
       "      <td>2016-11-01</td>\n",
       "    </tr>\n",
       "  </tbody>\n",
       "</table>\n",
       "</div>"
      ],
      "text/plain": [
       "  Coleccion Referencia                   Descripcion Color  No.Pedido  \\\n",
       "0    FW2016     RK2321  GORRA LACOSTE PARA CABALLERO   001       5597   \n",
       "1    FW2016     RK2321  GORRA LACOSTE PARA CABALLERO   001       5630   \n",
       "2    FW2016     RK2321  GORRA LACOSTE PARA CABALLERO   001       5631   \n",
       "3    FW2016     RK2321  GORRA LACOSTE PARA CABALLERO   001       5635   \n",
       "4    FW2016     RK2321  GORRA LACOSTE PARA CABALLERO   031       5597   \n",
       "\n",
       "   Tot_Piezas  Costo_Fabrica  Precio_Venta Pais_Producto  Cta_Cliente  \\\n",
       "0         6.0          15.65          25.0         china      2313076   \n",
       "1         2.0          15.65          25.0         china      2224074   \n",
       "2         2.0          15.65          25.0         china      2224090   \n",
       "3         5.0          15.65          25.0         china      2209051   \n",
       "4         6.0          15.65          25.0         china      2313076   \n",
       "\n",
       "              Nombre_Cliente     Estatus Plataforma familia Pais_Producto_fil  \\\n",
       "0               RIPOSTO,S.A.  EN SISTEMA       ASIA      RK             china   \n",
       "1        ICOSAL S.A. DE C.V.  EN SISTEMA       ASIA      RK             china   \n",
       "2      ICOSAL,S.A. AEROPUERT  EN SISTEMA       ASIA      RK             china   \n",
       "3  INVERSIONES MONTIJO, S.A.  EN SISTEMA       ASIA      RK             china   \n",
       "4               RIPOSTO,S.A.  EN SISTEMA       ASIA      RK             china   \n",
       "\n",
       "   Cta_Cliente_final Temporada Nueva_Coleccion  \n",
       "0            2313076        FW      2016-11-01  \n",
       "1            2224074        FW      2016-11-01  \n",
       "2            2224090        FW      2016-11-01  \n",
       "3            2209051        FW      2016-11-01  \n",
       "4            2313076        FW      2016-11-01  "
      ]
     },
     "execution_count": 3,
     "metadata": {},
     "output_type": "execute_result"
    }
   ],
   "source": [
    "data.head()"
   ]
  },
  {
   "cell_type": "markdown",
   "id": "0d55fd29",
   "metadata": {},
   "source": [
    "# Defición features y target"
   ]
  },
  {
   "cell_type": "code",
   "execution_count": 4,
   "id": "017e8917",
   "metadata": {},
   "outputs": [],
   "source": [
    "# Features = Cta_cliente + familia + nueva_colección\n",
    "X = data[['Cta_Cliente', 'familia', 'Nueva_Coleccion']]\n",
    "\n",
    "# Target = Tot_Piezas\n",
    "y = data['Tot_Piezas']"
   ]
  },
  {
   "cell_type": "code",
   "execution_count": 5,
   "id": "4e8a35da",
   "metadata": {},
   "outputs": [
    {
     "data": {
      "text/html": [
       "<div>\n",
       "<style scoped>\n",
       "    .dataframe tbody tr th:only-of-type {\n",
       "        vertical-align: middle;\n",
       "    }\n",
       "\n",
       "    .dataframe tbody tr th {\n",
       "        vertical-align: top;\n",
       "    }\n",
       "\n",
       "    .dataframe thead th {\n",
       "        text-align: right;\n",
       "    }\n",
       "</style>\n",
       "<table border=\"1\" class=\"dataframe\">\n",
       "  <thead>\n",
       "    <tr style=\"text-align: right;\">\n",
       "      <th></th>\n",
       "      <th>Cta_Cliente</th>\n",
       "      <th>familia</th>\n",
       "      <th>Nueva_Coleccion</th>\n",
       "    </tr>\n",
       "  </thead>\n",
       "  <tbody>\n",
       "    <tr>\n",
       "      <th>0</th>\n",
       "      <td>2313076</td>\n",
       "      <td>RK</td>\n",
       "      <td>2016-11-01</td>\n",
       "    </tr>\n",
       "    <tr>\n",
       "      <th>1</th>\n",
       "      <td>2224074</td>\n",
       "      <td>RK</td>\n",
       "      <td>2016-11-01</td>\n",
       "    </tr>\n",
       "    <tr>\n",
       "      <th>2</th>\n",
       "      <td>2224090</td>\n",
       "      <td>RK</td>\n",
       "      <td>2016-11-01</td>\n",
       "    </tr>\n",
       "    <tr>\n",
       "      <th>3</th>\n",
       "      <td>2209051</td>\n",
       "      <td>RK</td>\n",
       "      <td>2016-11-01</td>\n",
       "    </tr>\n",
       "    <tr>\n",
       "      <th>4</th>\n",
       "      <td>2313076</td>\n",
       "      <td>RK</td>\n",
       "      <td>2016-11-01</td>\n",
       "    </tr>\n",
       "  </tbody>\n",
       "</table>\n",
       "</div>"
      ],
      "text/plain": [
       "   Cta_Cliente familia Nueva_Coleccion\n",
       "0      2313076      RK      2016-11-01\n",
       "1      2224074      RK      2016-11-01\n",
       "2      2224090      RK      2016-11-01\n",
       "3      2209051      RK      2016-11-01\n",
       "4      2313076      RK      2016-11-01"
      ]
     },
     "execution_count": 5,
     "metadata": {},
     "output_type": "execute_result"
    }
   ],
   "source": [
    "X.head()"
   ]
  },
  {
   "cell_type": "code",
   "execution_count": 7,
   "id": "613d14b0",
   "metadata": {},
   "outputs": [
    {
     "data": {
      "text/plain": [
       "(34638, 3)"
      ]
     },
     "execution_count": 7,
     "metadata": {},
     "output_type": "execute_result"
    }
   ],
   "source": [
    "X.shape"
   ]
  },
  {
   "cell_type": "code",
   "execution_count": 12,
   "id": "06f71815",
   "metadata": {},
   "outputs": [
    {
     "name": "stdout",
     "output_type": "stream",
     "text": [
      "<class 'pandas.core.frame.DataFrame'>\n",
      "RangeIndex: 34638 entries, 0 to 34637\n",
      "Data columns (total 3 columns):\n",
      " #   Column           Non-Null Count  Dtype \n",
      "---  ------           --------------  ----- \n",
      " 0   Cta_Cliente      34638 non-null  int64 \n",
      " 1   familia          34638 non-null  object\n",
      " 2   Nueva_Coleccion  34638 non-null  object\n",
      "dtypes: int64(1), object(2)\n",
      "memory usage: 812.0+ KB\n"
     ]
    }
   ],
   "source": [
    "X.info()"
   ]
  },
  {
   "cell_type": "code",
   "execution_count": 15,
   "id": "c0b7881b",
   "metadata": {},
   "outputs": [
    {
     "name": "stderr",
     "output_type": "stream",
     "text": [
      "/tmp/ipykernel_1254/3960152994.py:2: SettingWithCopyWarning: \n",
      "A value is trying to be set on a copy of a slice from a DataFrame.\n",
      "Try using .loc[row_indexer,col_indexer] = value instead\n",
      "\n",
      "See the caveats in the documentation: https://pandas.pydata.org/pandas-docs/stable/user_guide/indexing.html#returning-a-view-versus-a-copy\n",
      "  X['Cta_Cliente'] = X['Cta_Cliente'].astype('object')\n"
     ]
    }
   ],
   "source": [
    "#Transformamos la columna cta_cliente a tipo object para que cada número se tome como único \n",
    "X['Cta_Cliente'] = X['Cta_Cliente'].astype('object')"
   ]
  },
  {
   "cell_type": "code",
   "execution_count": 16,
   "id": "f0c70ee3",
   "metadata": {},
   "outputs": [
    {
     "name": "stdout",
     "output_type": "stream",
     "text": [
      "<class 'pandas.core.frame.DataFrame'>\n",
      "RangeIndex: 34638 entries, 0 to 34637\n",
      "Data columns (total 3 columns):\n",
      " #   Column           Non-Null Count  Dtype \n",
      "---  ------           --------------  ----- \n",
      " 0   Cta_Cliente      34638 non-null  object\n",
      " 1   familia          34638 non-null  object\n",
      " 2   Nueva_Coleccion  34638 non-null  object\n",
      "dtypes: object(3)\n",
      "memory usage: 812.0+ KB\n"
     ]
    }
   ],
   "source": [
    "X.info()"
   ]
  },
  {
   "cell_type": "code",
   "execution_count": 6,
   "id": "9722b42a",
   "metadata": {},
   "outputs": [
    {
     "data": {
      "text/plain": [
       "0    6.0\n",
       "1    2.0\n",
       "2    2.0\n",
       "3    5.0\n",
       "4    6.0\n",
       "Name: Tot_Piezas, dtype: float64"
      ]
     },
     "execution_count": 6,
     "metadata": {},
     "output_type": "execute_result"
    }
   ],
   "source": [
    "y.head()"
   ]
  },
  {
   "cell_type": "code",
   "execution_count": 8,
   "id": "524e8418",
   "metadata": {},
   "outputs": [
    {
     "data": {
      "text/plain": [
       "(34638,)"
      ]
     },
     "execution_count": 8,
     "metadata": {},
     "output_type": "execute_result"
    }
   ],
   "source": [
    "y.shape"
   ]
  },
  {
   "cell_type": "markdown",
   "id": "9114684a",
   "metadata": {},
   "source": [
    "# División dataset en train y test"
   ]
  },
  {
   "cell_type": "markdown",
   "id": "36a779c4",
   "metadata": {},
   "source": []
  }
 ],
 "metadata": {
  "kernelspec": {
   "display_name": "Python 3 (ipykernel)",
   "language": "python",
   "name": "python3"
  },
  "language_info": {
   "codemirror_mode": {
    "name": "ipython",
    "version": 3
   },
   "file_extension": ".py",
   "mimetype": "text/x-python",
   "name": "python",
   "nbconvert_exporter": "python",
   "pygments_lexer": "ipython3",
   "version": "3.10.6"
  },
  "toc": {
   "base_numbering": 1,
   "nav_menu": {},
   "number_sections": true,
   "sideBar": true,
   "skip_h1_title": false,
   "title_cell": "Table of Contents",
   "title_sidebar": "Contents",
   "toc_cell": false,
   "toc_position": {},
   "toc_section_display": true,
   "toc_window_display": false
  }
 },
 "nbformat": 4,
 "nbformat_minor": 5
}
