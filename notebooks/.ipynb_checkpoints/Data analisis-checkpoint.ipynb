{
 "cells": [
  {
   "cell_type": "code",
   "execution_count": 1,
   "id": "96a04056",
   "metadata": {},
   "outputs": [],
   "source": [
    "import numpy as np\n",
    "import pandas as pd"
   ]
  },
  {
   "cell_type": "markdown",
   "id": "b7d85e61",
   "metadata": {},
   "source": [
    "# Análisis de la Data"
   ]
  },
  {
   "cell_type": "code",
   "execution_count": null,
   "id": "ca69e8dd",
   "metadata": {},
   "outputs": [],
   "source": [
    "df = pd.read_csv()"
   ]
  },
  {
   "cell_type": "markdown",
   "id": "be965998",
   "metadata": {},
   "source": [
    "Pasos:\n",
    "\n",
    "1° duplicados, NaN, filtrar \"cancelados\", filtrar clientes que desde 2019 no compran\n",
    "\n",
    "2° Colección: SS -- 01-05-2016   -   FW -- 01-11-2016\n",
    "             Agregar 2 nueva columna SS o FW\n",
    "   Referencia -- Familia -- \"encoding\" (agregar columnas)\n",
    "   Total piezas (y - target)\n",
    "   país productor -- corregir texto con distinta escritura (Servia, Camboya) \n",
    "                  -- encoding\n",
    "   Cliente -- encoding\n",
    "   Plataforma -- encoding"
   ]
  },
  {
   "cell_type": "code",
   "execution_count": null,
   "id": "f5dbef14",
   "metadata": {},
   "outputs": [],
   "source": []
  }
 ],
 "metadata": {
  "kernelspec": {
   "display_name": "Python 3 (ipykernel)",
   "language": "python",
   "name": "python3"
  },
  "language_info": {
   "codemirror_mode": {
    "name": "ipython",
    "version": 3
   },
   "file_extension": ".py",
   "mimetype": "text/x-python",
   "name": "python",
   "nbconvert_exporter": "python",
   "pygments_lexer": "ipython3",
   "version": "3.10.6"
  },
  "toc": {
   "base_numbering": 1,
   "nav_menu": {},
   "number_sections": true,
   "sideBar": true,
   "skip_h1_title": false,
   "title_cell": "Table of Contents",
   "title_sidebar": "Contents",
   "toc_cell": false,
   "toc_position": {},
   "toc_section_display": true,
   "toc_window_display": false
  }
 },
 "nbformat": 4,
 "nbformat_minor": 5
}
