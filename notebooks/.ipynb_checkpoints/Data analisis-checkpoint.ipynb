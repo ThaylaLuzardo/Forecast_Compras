{
 "cells": [
  {
   "cell_type": "code",
   "execution_count": 1,
   "id": "96a04056",
   "metadata": {},
   "outputs": [],
   "source": [
    "import numpy as np\n",
    "import pandas as pd"
   ]
  },
  {
   "cell_type": "markdown",
   "id": "b7d85e61",
   "metadata": {},
   "source": [
    "# Análisis de la Data"
   ]
  },
  {
   "cell_type": "markdown",
   "id": "8ea68812",
   "metadata": {},
   "source": [
    "El archivo cuenta con un total de 64 columnas. Sin embargo, del análisis de cada columna y la información necesaria para realizar el presente proyecto, sólo vamos a seleccionar 11. "
   ]
  },
  {
   "cell_type": "code",
   "execution_count": 2,
   "id": "ca69e8dd",
   "metadata": {},
   "outputs": [],
   "source": [
    "# Path para acceder al archivo csv\n",
    "archivo = '../Data/Compras_modificado.csv'\n",
    "\n",
    "# Selección de columnas\n",
    "columnas_select = ['Coleccion', 'Referencia', 'Color', 'Descripcion', 'No.Pedido', \n",
    "                   'Tot_Piezas', 'Costo_Fabrica', 'Precio_Venta',\n",
    "                   'Pais_Producto', 'Cta_Cliente', 'Nombre_Cliente', \n",
    "                   'Estatus', 'Plataforma', 'familia']\n",
    "\n",
    "# Abrir archivo csv con columnas seleccionadas\n",
    "data_df = pd.read_csv(archivo, usecols=columnas_select)"
   ]
  },
  {
   "cell_type": "code",
   "execution_count": 3,
   "id": "5af40657",
   "metadata": {},
   "outputs": [
    {
     "data": {
      "text/html": [
       "<div>\n",
       "<style scoped>\n",
       "    .dataframe tbody tr th:only-of-type {\n",
       "        vertical-align: middle;\n",
       "    }\n",
       "\n",
       "    .dataframe tbody tr th {\n",
       "        vertical-align: top;\n",
       "    }\n",
       "\n",
       "    .dataframe thead th {\n",
       "        text-align: right;\n",
       "    }\n",
       "</style>\n",
       "<table border=\"1\" class=\"dataframe\">\n",
       "  <thead>\n",
       "    <tr style=\"text-align: right;\">\n",
       "      <th></th>\n",
       "      <th>Coleccion</th>\n",
       "      <th>Referencia</th>\n",
       "      <th>Descripcion</th>\n",
       "      <th>Color</th>\n",
       "      <th>No.Pedido</th>\n",
       "      <th>Tot_Piezas</th>\n",
       "      <th>Costo_Fabrica</th>\n",
       "      <th>Precio_Venta</th>\n",
       "      <th>Pais_Producto</th>\n",
       "      <th>Cta_Cliente</th>\n",
       "      <th>Nombre_Cliente</th>\n",
       "      <th>Estatus</th>\n",
       "      <th>Plataforma</th>\n",
       "      <th>familia</th>\n",
       "    </tr>\n",
       "  </thead>\n",
       "  <tbody>\n",
       "    <tr>\n",
       "      <th>0</th>\n",
       "      <td>AW2016</td>\n",
       "      <td>RK2321</td>\n",
       "      <td>GORRA LACOSTE PARA CABALLERO</td>\n",
       "      <td>001</td>\n",
       "      <td>5590</td>\n",
       "      <td>12.0</td>\n",
       "      <td>15.65</td>\n",
       "      <td>25.0</td>\n",
       "      <td>CHINA</td>\n",
       "      <td>1207097</td>\n",
       "      <td>RESERVA SUCURSALES</td>\n",
       "      <td>EN SISTEMA</td>\n",
       "      <td>ASIA</td>\n",
       "      <td>RK</td>\n",
       "    </tr>\n",
       "    <tr>\n",
       "      <th>1</th>\n",
       "      <td>AW2016</td>\n",
       "      <td>RK2321</td>\n",
       "      <td>GORRA LACOSTE PARA CABALLERO</td>\n",
       "      <td>001</td>\n",
       "      <td>5595</td>\n",
       "      <td>12.0</td>\n",
       "      <td>15.65</td>\n",
       "      <td>25.0</td>\n",
       "      <td>CHINA</td>\n",
       "      <td>1207097</td>\n",
       "      <td>RESERVA SUCURSALES</td>\n",
       "      <td>EN SISTEMA</td>\n",
       "      <td>ASIA</td>\n",
       "      <td>RK</td>\n",
       "    </tr>\n",
       "    <tr>\n",
       "      <th>2</th>\n",
       "      <td>AW2016</td>\n",
       "      <td>RK2321</td>\n",
       "      <td>GORRA LACOSTE PARA CABALLERO</td>\n",
       "      <td>001</td>\n",
       "      <td>5597</td>\n",
       "      <td>6.0</td>\n",
       "      <td>15.65</td>\n",
       "      <td>25.0</td>\n",
       "      <td>CHINA</td>\n",
       "      <td>2313076</td>\n",
       "      <td>RIPOSTO,S.A.</td>\n",
       "      <td>EN SISTEMA</td>\n",
       "      <td>ASIA</td>\n",
       "      <td>RK</td>\n",
       "    </tr>\n",
       "    <tr>\n",
       "      <th>3</th>\n",
       "      <td>AW2016</td>\n",
       "      <td>RK2321</td>\n",
       "      <td>GORRA LACOSTE PARA CABALLERO</td>\n",
       "      <td>001</td>\n",
       "      <td>5599</td>\n",
       "      <td>4.0</td>\n",
       "      <td>15.65</td>\n",
       "      <td>25.0</td>\n",
       "      <td>CHINA</td>\n",
       "      <td>2305201</td>\n",
       "      <td>MYL DE COLOMBIA,SAS</td>\n",
       "      <td>EN SISTEMA</td>\n",
       "      <td>ASIA</td>\n",
       "      <td>RK</td>\n",
       "    </tr>\n",
       "    <tr>\n",
       "      <th>4</th>\n",
       "      <td>AW2016</td>\n",
       "      <td>RK2321</td>\n",
       "      <td>GORRA LACOSTE PARA CABALLERO</td>\n",
       "      <td>001</td>\n",
       "      <td>5600</td>\n",
       "      <td>4.0</td>\n",
       "      <td>15.65</td>\n",
       "      <td>25.0</td>\n",
       "      <td>CHINA</td>\n",
       "      <td>2305201</td>\n",
       "      <td>MYL DE COLOMBIA,SAS</td>\n",
       "      <td>EN SISTEMA</td>\n",
       "      <td>ASIA</td>\n",
       "      <td>RK</td>\n",
       "    </tr>\n",
       "  </tbody>\n",
       "</table>\n",
       "</div>"
      ],
      "text/plain": [
       "  Coleccion Referencia                   Descripcion Color  No.Pedido  \\\n",
       "0    AW2016     RK2321  GORRA LACOSTE PARA CABALLERO   001       5590   \n",
       "1    AW2016     RK2321  GORRA LACOSTE PARA CABALLERO   001       5595   \n",
       "2    AW2016     RK2321  GORRA LACOSTE PARA CABALLERO   001       5597   \n",
       "3    AW2016     RK2321  GORRA LACOSTE PARA CABALLERO   001       5599   \n",
       "4    AW2016     RK2321  GORRA LACOSTE PARA CABALLERO   001       5600   \n",
       "\n",
       "   Tot_Piezas  Costo_Fabrica  Precio_Venta Pais_Producto  Cta_Cliente  \\\n",
       "0        12.0          15.65          25.0         CHINA      1207097   \n",
       "1        12.0          15.65          25.0         CHINA      1207097   \n",
       "2         6.0          15.65          25.0         CHINA      2313076   \n",
       "3         4.0          15.65          25.0         CHINA      2305201   \n",
       "4         4.0          15.65          25.0         CHINA      2305201   \n",
       "\n",
       "        Nombre_Cliente     Estatus Plataforma familia  \n",
       "0   RESERVA SUCURSALES  EN SISTEMA       ASIA      RK  \n",
       "1   RESERVA SUCURSALES  EN SISTEMA       ASIA      RK  \n",
       "2         RIPOSTO,S.A.  EN SISTEMA       ASIA      RK  \n",
       "3  MYL DE COLOMBIA,SAS  EN SISTEMA       ASIA      RK  \n",
       "4  MYL DE COLOMBIA,SAS  EN SISTEMA       ASIA      RK  "
      ]
     },
     "execution_count": 3,
     "metadata": {},
     "output_type": "execute_result"
    }
   ],
   "source": [
    "data_df.head()"
   ]
  },
  {
   "cell_type": "markdown",
   "id": "57b37e72",
   "metadata": {},
   "source": [
    "## Análisis general de los datos "
   ]
  },
  {
   "cell_type": "code",
   "execution_count": 4,
   "id": "c4f834c8",
   "metadata": {},
   "outputs": [
    {
     "name": "stdout",
     "output_type": "stream",
     "text": [
      "<class 'pandas.core.frame.DataFrame'>\n",
      "RangeIndex: 65597 entries, 0 to 65596\n",
      "Data columns (total 14 columns):\n",
      " #   Column          Non-Null Count  Dtype  \n",
      "---  ------          --------------  -----  \n",
      " 0   Coleccion       65597 non-null  object \n",
      " 1   Referencia      65597 non-null  object \n",
      " 2   Descripcion     65597 non-null  object \n",
      " 3   Color           65597 non-null  object \n",
      " 4   No.Pedido       65597 non-null  int64  \n",
      " 5   Tot_Piezas      65597 non-null  float64\n",
      " 6   Costo_Fabrica   65597 non-null  float64\n",
      " 7   Precio_Venta    65597 non-null  float64\n",
      " 8   Pais_Producto   65597 non-null  object \n",
      " 9   Cta_Cliente     65597 non-null  int64  \n",
      " 10  Nombre_Cliente  65597 non-null  object \n",
      " 11  Estatus         65597 non-null  object \n",
      " 12  Plataforma      65597 non-null  object \n",
      " 13  familia         65597 non-null  object \n",
      "dtypes: float64(3), int64(2), object(9)\n",
      "memory usage: 7.0+ MB\n"
     ]
    }
   ],
   "source": [
    "data_df.info()"
   ]
  },
  {
   "cell_type": "code",
   "execution_count": 5,
   "id": "12233b8e",
   "metadata": {},
   "outputs": [
    {
     "data": {
      "text/html": [
       "<div>\n",
       "<style scoped>\n",
       "    .dataframe tbody tr th:only-of-type {\n",
       "        vertical-align: middle;\n",
       "    }\n",
       "\n",
       "    .dataframe tbody tr th {\n",
       "        vertical-align: top;\n",
       "    }\n",
       "\n",
       "    .dataframe thead th {\n",
       "        text-align: right;\n",
       "    }\n",
       "</style>\n",
       "<table border=\"1\" class=\"dataframe\">\n",
       "  <thead>\n",
       "    <tr style=\"text-align: right;\">\n",
       "      <th></th>\n",
       "      <th>No.Pedido</th>\n",
       "      <th>Tot_Piezas</th>\n",
       "      <th>Costo_Fabrica</th>\n",
       "      <th>Precio_Venta</th>\n",
       "      <th>Cta_Cliente</th>\n",
       "    </tr>\n",
       "  </thead>\n",
       "  <tbody>\n",
       "    <tr>\n",
       "      <th>count</th>\n",
       "      <td>65597.000000</td>\n",
       "      <td>65597.000000</td>\n",
       "      <td>65597.000000</td>\n",
       "      <td>65597.000000</td>\n",
       "      <td>6.559700e+04</td>\n",
       "    </tr>\n",
       "    <tr>\n",
       "      <th>mean</th>\n",
       "      <td>7478.672805</td>\n",
       "      <td>17.126500</td>\n",
       "      <td>24.831679</td>\n",
       "      <td>44.497119</td>\n",
       "      <td>2.052870e+06</td>\n",
       "    </tr>\n",
       "    <tr>\n",
       "      <th>std</th>\n",
       "      <td>1367.369884</td>\n",
       "      <td>30.368732</td>\n",
       "      <td>12.421134</td>\n",
       "      <td>21.193926</td>\n",
       "      <td>4.587816e+05</td>\n",
       "    </tr>\n",
       "    <tr>\n",
       "      <th>min</th>\n",
       "      <td>0.000000</td>\n",
       "      <td>0.000000</td>\n",
       "      <td>0.000000</td>\n",
       "      <td>0.000000</td>\n",
       "      <td>0.000000e+00</td>\n",
       "    </tr>\n",
       "    <tr>\n",
       "      <th>25%</th>\n",
       "      <td>6405.000000</td>\n",
       "      <td>5.000000</td>\n",
       "      <td>17.470000</td>\n",
       "      <td>33.000000</td>\n",
       "      <td>2.201119e+06</td>\n",
       "    </tr>\n",
       "    <tr>\n",
       "      <th>50%</th>\n",
       "      <td>7228.000000</td>\n",
       "      <td>8.000000</td>\n",
       "      <td>26.600000</td>\n",
       "      <td>44.000000</td>\n",
       "      <td>2.224074e+06</td>\n",
       "    </tr>\n",
       "    <tr>\n",
       "      <th>75%</th>\n",
       "      <td>8747.000000</td>\n",
       "      <td>15.000000</td>\n",
       "      <td>31.910000</td>\n",
       "      <td>55.000000</td>\n",
       "      <td>2.306225e+06</td>\n",
       "    </tr>\n",
       "    <tr>\n",
       "      <th>max</th>\n",
       "      <td>9685.000000</td>\n",
       "      <td>849.000000</td>\n",
       "      <td>148.960000</td>\n",
       "      <td>1000.000000</td>\n",
       "      <td>2.601001e+06</td>\n",
       "    </tr>\n",
       "  </tbody>\n",
       "</table>\n",
       "</div>"
      ],
      "text/plain": [
       "          No.Pedido    Tot_Piezas  Costo_Fabrica  Precio_Venta   Cta_Cliente\n",
       "count  65597.000000  65597.000000   65597.000000  65597.000000  6.559700e+04\n",
       "mean    7478.672805     17.126500      24.831679     44.497119  2.052870e+06\n",
       "std     1367.369884     30.368732      12.421134     21.193926  4.587816e+05\n",
       "min        0.000000      0.000000       0.000000      0.000000  0.000000e+00\n",
       "25%     6405.000000      5.000000      17.470000     33.000000  2.201119e+06\n",
       "50%     7228.000000      8.000000      26.600000     44.000000  2.224074e+06\n",
       "75%     8747.000000     15.000000      31.910000     55.000000  2.306225e+06\n",
       "max     9685.000000    849.000000     148.960000   1000.000000  2.601001e+06"
      ]
     },
     "execution_count": 5,
     "metadata": {},
     "output_type": "execute_result"
    }
   ],
   "source": [
    "data_df.describe()"
   ]
  },
  {
   "cell_type": "code",
   "execution_count": 6,
   "id": "1a328582",
   "metadata": {},
   "outputs": [
    {
     "data": {
      "text/plain": [
       "Coleccion         0\n",
       "Referencia        0\n",
       "Descripcion       0\n",
       "Color             0\n",
       "No.Pedido         0\n",
       "Tot_Piezas        0\n",
       "Costo_Fabrica     0\n",
       "Precio_Venta      0\n",
       "Pais_Producto     0\n",
       "Cta_Cliente       0\n",
       "Nombre_Cliente    0\n",
       "Estatus           0\n",
       "Plataforma        0\n",
       "familia           0\n",
       "dtype: int64"
      ]
     },
     "execution_count": 6,
     "metadata": {},
     "output_type": "execute_result"
    }
   ],
   "source": [
    "data_df.isnull().sum()"
   ]
  },
  {
   "cell_type": "markdown",
   "id": "0ccd7096",
   "metadata": {},
   "source": [
    "**No hay datos nulos**"
   ]
  },
  {
   "cell_type": "markdown",
   "id": "ab60f4d2",
   "metadata": {},
   "source": [
    "# Pre-procesamiento básico"
   ]
  },
  {
   "cell_type": "markdown",
   "id": "2300b1c0",
   "metadata": {},
   "source": [
    "En este pre-procesamiento básico, se van a realizar los siguientes ajustes:\n",
    "\n",
    "1. Eliminar duplicados\n",
    "2. Filtrar columna \"Estatus\" para eliminar pedidos \"cancelados\"\n",
    "3. Filtrar clientes que desde 2019 no compran\n",
    "4. Verificar existencia de datos nulos. Anteriormente se observó que no hay NaN, pero se verificarán otras formas de existencia de datos no válidos\n",
    "4. Ajustar errores de texto en columnas con dato tipo obj"
   ]
  },
  {
   "cell_type": "markdown",
   "id": "389f523f",
   "metadata": {},
   "source": [
    "## Eliminar duplicados"
   ]
  },
  {
   "cell_type": "code",
   "execution_count": 7,
   "id": "f44608bb",
   "metadata": {},
   "outputs": [
    {
     "data": {
      "text/plain": [
       "(65597, 14)"
      ]
     },
     "execution_count": 7,
     "metadata": {},
     "output_type": "execute_result"
    }
   ],
   "source": [
    "data_df.shape"
   ]
  },
  {
   "cell_type": "code",
   "execution_count": 8,
   "id": "6c5e0e67",
   "metadata": {},
   "outputs": [],
   "source": [
    "data_proces_df = data_df.drop_duplicates()"
   ]
  },
  {
   "cell_type": "code",
   "execution_count": 9,
   "id": "e4d33820",
   "metadata": {},
   "outputs": [
    {
     "data": {
      "text/plain": [
       "(65419, 14)"
      ]
     },
     "execution_count": 9,
     "metadata": {},
     "output_type": "execute_result"
    }
   ],
   "source": [
    "data_proces_df.shape"
   ]
  },
  {
   "cell_type": "code",
   "execution_count": 10,
   "id": "ad98324d",
   "metadata": {},
   "outputs": [
    {
     "name": "stdout",
     "output_type": "stream",
     "text": [
      "Se eliminaron 178 filas duplicadas\n"
     ]
    }
   ],
   "source": [
    "duplicados = data_df.shape[0] - data_proces_df.shape[0]\n",
    "print(f'Se eliminaron {duplicados} filas duplicadas')"
   ]
  },
  {
   "cell_type": "markdown",
   "id": "7639fc04",
   "metadata": {},
   "source": [
    "## Filtrado según estatus de la compra"
   ]
  },
  {
   "cell_type": "markdown",
   "id": "6799e7f8",
   "metadata": {},
   "source": [
    "Se eliminan las compras con estatus \"cancelado\" y \"caida\""
   ]
  },
  {
   "cell_type": "code",
   "execution_count": 11,
   "id": "85a46ed6",
   "metadata": {
    "scrolled": true
   },
   "outputs": [
    {
     "data": {
      "text/plain": [
       "array(['EN SISTEMA', 'CANCELADO', 'CAIDA', 'EN PROCESO',\n",
       "       '               ', 'EN BODEGA', 'EN PUERTO', '03/22/2024',\n",
       "       '02/16/2024', '02/23/2024', '02/14/2024', '02/19/2024',\n",
       "       '03/08/2024', '02/09/2024'], dtype=object)"
      ]
     },
     "execution_count": 11,
     "metadata": {},
     "output_type": "execute_result"
    }
   ],
   "source": [
    "data_proces_df['Estatus'].unique()"
   ]
  },
  {
   "cell_type": "code",
   "execution_count": 12,
   "id": "5fed7961",
   "metadata": {},
   "outputs": [
    {
     "data": {
      "text/plain": [
       "EN SISTEMA         45387\n",
       "CANCELADO          14164\n",
       "                    4032\n",
       "CAIDA                490\n",
       "02/14/2024           452\n",
       "03/22/2024           280\n",
       "02/19/2024           182\n",
       "02/16/2024           154\n",
       "EN PROCESO           115\n",
       "03/08/2024            70\n",
       "EN PUERTO             38\n",
       "02/23/2024            35\n",
       "EN BODEGA             10\n",
       "02/09/2024            10\n",
       "Name: Estatus, dtype: int64"
      ]
     },
     "execution_count": 12,
     "metadata": {},
     "output_type": "execute_result"
    }
   ],
   "source": [
    "data_proces_df['Estatus'].value_counts()"
   ]
  },
  {
   "cell_type": "code",
   "execution_count": 13,
   "id": "3a3e135d",
   "metadata": {},
   "outputs": [],
   "source": [
    "# Filtrar data set. Eliminamos compras canceladas o caídas\n",
    "data_proces_status = data_proces_df[(data_proces_df['Estatus'] != 'CANCELADO') & (data_proces_df['Estatus'] != 'CAIDA')]"
   ]
  },
  {
   "cell_type": "code",
   "execution_count": 14,
   "id": "ca6182f2",
   "metadata": {},
   "outputs": [
    {
     "data": {
      "text/plain": [
       "array(['EN SISTEMA', 'EN PROCESO', '               ', 'EN BODEGA',\n",
       "       'EN PUERTO', '03/22/2024', '02/16/2024', '02/23/2024',\n",
       "       '02/14/2024', '02/19/2024', '03/08/2024', '02/09/2024'],\n",
       "      dtype=object)"
      ]
     },
     "execution_count": 14,
     "metadata": {},
     "output_type": "execute_result"
    }
   ],
   "source": [
    "data_proces_status['Estatus'].unique()"
   ]
  },
  {
   "cell_type": "code",
   "execution_count": 15,
   "id": "5b5f67fe",
   "metadata": {},
   "outputs": [
    {
     "data": {
      "text/plain": [
       "50765"
      ]
     },
     "execution_count": 15,
     "metadata": {},
     "output_type": "execute_result"
    }
   ],
   "source": [
    "compras_filtradas = data_proces_status.shape[0]\n",
    "compras_filtradas"
   ]
  },
  {
   "cell_type": "code",
   "execution_count": 16,
   "id": "7ce307a2",
   "metadata": {},
   "outputs": [
    {
     "name": "stdout",
     "output_type": "stream",
     "text": [
      "Se filtró la base, se eliminaron 14654 compras canceladas o caídas\n"
     ]
    }
   ],
   "source": [
    "compras_canceladas = data_proces_df.shape[0] - compras_filtradas\n",
    "print(f'Se filtró la base, se eliminaron {compras_canceladas} compras canceladas o caídas')"
   ]
  },
  {
   "cell_type": "markdown",
   "id": "34a8b1b6",
   "metadata": {},
   "source": [
    "## Datos nulos "
   ]
  },
  {
   "cell_type": "markdown",
   "id": "fee09495",
   "metadata": {},
   "source": [
    "En el análisis inicial se observó que no hay datos NAN, pero se analizarán otras formas de datos nulos para como texto vacío, caracteres especiales, etc"
   ]
  },
  {
   "cell_type": "code",
   "execution_count": 17,
   "id": "5c42931a",
   "metadata": {},
   "outputs": [
    {
     "data": {
      "text/plain": [
       "Index(['Coleccion', 'Referencia', 'Descripcion', 'Color', 'No.Pedido',\n",
       "       'Tot_Piezas', 'Costo_Fabrica', 'Precio_Venta', 'Pais_Producto',\n",
       "       'Cta_Cliente', 'Nombre_Cliente', 'Estatus', 'Plataforma', 'familia'],\n",
       "      dtype='object')"
      ]
     },
     "execution_count": 17,
     "metadata": {},
     "output_type": "execute_result"
    }
   ],
   "source": [
    "columns = data_proces_status.columns\n",
    "columns"
   ]
  },
  {
   "cell_type": "code",
   "execution_count": 18,
   "id": "99d65fcc",
   "metadata": {},
   "outputs": [],
   "source": [
    "# Diccionario con valores únicos por columna\n",
    "valores_unicos = {}\n",
    "\n",
    "for column in columns:\n",
    "    valores_u = data_proces_status[column].unique()\n",
    "    valores_unicos[column] = valores_u"
   ]
  },
  {
   "cell_type": "code",
   "execution_count": 19,
   "id": "2f2c6d71",
   "metadata": {},
   "outputs": [
    {
     "data": {
      "text/plain": [
       "{'Coleccion': array(['AW2016', 'AW2017', 'AW2018', 'AW2019', 'AW2020', 'AW2021',\n",
       "        'FW2022', 'FW2023', 'FW2024', 'SS2016', 'SS2017', 'SS2018',\n",
       "        'SS2019', 'SS2020', 'SS2021', 'SS2022', 'SS2023', 'SS2024'],\n",
       "       dtype=object),\n",
       " 'Referencia': array(['RK2321', 'RK2447', 'RK2464', ..., 'TJ7737 PE', 'TJ7950 PE',\n",
       "        'TJ7951 PE'], dtype=object),\n",
       " 'Descripcion': array(['GORRA LACOSTE PARA CABALLERO', 'MEDIAS LACOSTE PARA CABALLERO',\n",
       "        'CAMISA PARA CABALLERO', 'JACKET PARA CABALLERO',\n",
       "        'PANTALON LARGO PARA CABALLERO', 'CAMISA TIPO POLO PARA CABALLERO',\n",
       "        'BERMUDA PARA CABALLERO', 'PANTALON CORTO PARA CABALLERO',\n",
       "        'SUETER CON CAPUCHA PARA CABALLERO',\n",
       "        'T-SHIRT CUELLO REDONDO PARA CABALLERO',\n",
       "        'T-SHIRT CUELLO V PARA CABALLERO', 'T-SHIRT PARA CABALLERO',\n",
       "        'SUETER MANGA LARGA CON CAPUCHA PARA CABALLERO',\n",
       "        'CONJUNTO DEPORTIVO PARA CABALLERO', 'CARDIGAN PARA CABALLERO',\n",
       "        'PULLOVER PARA CABALLERO', 'SUETER MANGA LARGA PARA DAMA',\n",
       "        'CAMISA TIPO POLO PARA DAMA', 'T-SHIRT PARA DAMA',\n",
       "        'SUETER CUELLO REDONDO PARA DAMA', 'CAMISA PARA DAMA',\n",
       "        'JACKET PARA DAMA', 'VESTIDO PARA DAMA', 'PANTALON PARA DAMA',\n",
       "        'VESTIDO DE NIÑA', 'T-SHIRT PARA NIÑA', 'CAMISA PARA NIÑO',\n",
       "        'CAMISA TIPO POLO PARA NIÑO', 'PANTALON PARA NIÑO',\n",
       "        'T-SHIRT PARA NIÑO', 'CONJUNTO DEPORTIVO PARA NIÑO',\n",
       "        'GORRA PARA CABALLERO', 'MEDIAS PARA CABALLERO',\n",
       "        'CAMISA MANGA LARGA PARA CABALLERO',\n",
       "        'CAMISA MANGA CORTA PARA CABALLERO', 'PANTALON PARA CABALLERO',\n",
       "        'POLO MANGA CORTA PARA CABALLERO',\n",
       "        'SUETER TIPO POLO PARA CABALLERO', 'SUETER PARA CABALLERO',\n",
       "        'SUDADERA PARA CABALLERO', 'SUETER PARA DAMA',\n",
       "        'POLO MANGA CORTA PARA DAMA', 'SUDADERA PARA DAMA',\n",
       "        'CAMISA MANGA LARGA PARA DAMA', 'VESTIDO PARA NINA',\n",
       "        'PIJAMA PARA BEBE (NIÑO)', 'CAMISA MANGA LARGA PARA NINOS',\n",
       "        'CAMISA MANGA CORTA PARA NINOS', 'POLO MANGA CORTA PARA NINOS',\n",
       "        'SUDADERA PARA NINOS', 'T-SHIRT PARA NINOS', 'POLO PARA NINOS',\n",
       "        'GORRO PARA CABALLERO', 'BUFANDA PARA CABALLERO',\n",
       "        'CALCETIN PARA CABALLERO',\n",
       "        'SUETER POLO MANGA CORTA PARA CABALLERO',\n",
       "        'SUETER POLO MANGA CORTA PARA DAMA', 'SUETER TIPO POLO PARA NINO',\n",
       "        'SUDADERA PARA NINA', 'T-SHIRT PARA NINA', 'CONJUNTO PARA BEBE',\n",
       "        'CAMISA MANGA LARGA PARA NINO', 'SUETER POLO PARA NINO',\n",
       "        'PANTALON CORTO PARA NINO', 'PANTALON PARA NINO',\n",
       "        'CAMISA TIPO POLO PARA NINO',\n",
       "        'SUETER TIPO POLO MANGA LARGA PARA NINO', 'SUDADERA PARA NINO',\n",
       "        'T-SHIRT PARA NINO', 'CALCETINES PARA CABALLERO',\n",
       "        'ABRIGO PARA CABALLERO',\n",
       "        'CAMISA TIPO POLO MANGA LARGA PARA CABALLERO',\n",
       "        'CONJUNTO DEPORTIVO PARA C', 'PULLOVER PARA DAMA',\n",
       "        'CARDIGAN PARA DAMA', 'T- SHIRT CUELLO V PARA DAMA',\n",
       "        'PANTALON LARGO PARA DAMA', 'MASCARILLA DE USO NO QUIRURGICO',\n",
       "        'CAMISA TIPO POLO PARA CAB', 'VESTIDO DE BANO PARA CABALLERO',\n",
       "        'ABRIGO PARA DAMA', 'T-SHIRT CUELLO V PARA DAMA',\n",
       "        'PIJAMA PARA BEBE', 'JACKET CON CAPUCHA PARA NINO',\n",
       "        'CAMISA MANGA LARGA', 'CAMISA MANGA CORTA CUELLO',\n",
       "        'CAMISA MANGA LARGA CUELLO',\n",
       "        'SUETER CUELLO REDONDO PARA CABALLERO',\n",
       "        'ABRIGO CON ZIPER PARA CABALLERO', 'SUETER TIPO POLO PARA DAMA',\n",
       "        'SUDADERA CON CAPUCHA PARA DAMA', 'SUETER CUELLO V PARA DAMA',\n",
       "        'SUETER TIPO POLO PARA NINA', 'SUETER CUELLO REDONDO PARA NINO',\n",
       "        'SUETER MANGA LARGA CUELLO REDONDO PARA NINO',\n",
       "        'PANTALON DEPORTIVO PARA CABALLERO',\n",
       "        'T-SHIRT MANGA LARGA PARA DAMA', 'PANTALON DEPORTIVO PARA DAMA',\n",
       "        'GORRA PARA NINOS', 'JACKET PARA NINO',\n",
       "        'PANTALON DEPORTIVO PARA NINO', 'GORRA UNISEX',\n",
       "        'CALCETINES UNISEX', 'JACKET CON CAPUCHA PARA CABALLERO',\n",
       "        'VESTIDO DE BAÑO PARA CABALLERO',\n",
       "        'ABRIGO CON CAPUCHA PARA CABALLERO', 'T-SHIRT PARA  NINO', 'BANDA',\n",
       "        'GORRA', 'CALCETINES', 'SET DE CALCETINES 3 PIEZA',\n",
       "        'CAMISA MANGA CORTA', 'ABRIGO', 'ABRIGO CON CAPUCHA',\n",
       "        'PANTALON LARGO', 'SUETER TIPO POLO', 'PANTALON CORTO',\n",
       "        'VESTIDO DE BANO', 'T-SHIRT CUELLO REDONDO', 'T-SHIRT CUELLO V',\n",
       "        'CONJUNTO DEPORTIVO', 'PANTALON DEPORTIVO', 'PULLOVER', 'CARDIGAN',\n",
       "        'T-SHIRT', 'VESTIDO', 'VESTIDO DEPORTIVO', 'ROPA',\n",
       "        'SUETER M/CORTA PARA CABALLERO',\n",
       "        'SUETER MANGA CORTA PARA CABALLERO',\n",
       "        'SUETER TIPO POLO MANGA LARGA PARA CABALLERO',\n",
       "        'SUETER CUELLO/V  PARA CABALLERO', 'SUETER  PARA CABALLERO',\n",
       "        'SUETER MANGA LARGA PARA CABALLERO', 'BERMUDA PARA DAMA',\n",
       "        'JEAN PARA DAMA', 'VESTIDO PARA NIÑA', 'FALDA PARA NIÑA',\n",
       "        'BLUSA PARA NIÑA', 'SUETER PARA NIÑO', 'PANTALON CORTO PARA NIÑO',\n",
       "        'PANTALON LARGO PARA NIÑO', 'SUETER TIPO POLO PARA NIÑO',\n",
       "        'PULLOVER PARA NIÑO', 'SUETER CUELLO/V PARA NIÑO',\n",
       "        'SUETER CUELLO REDONDO PARA NIÑO',\n",
       "        'SUETER TIPO POLO MANGA CORTA PARA CABALLERO',\n",
       "        'T-SHIRT CUELLO V MANGA LARGA PARA CABALLERO',\n",
       "        'PANTALON CORTO PARA DAMA', 'SUETER TIPO POLO MANGA CO',\n",
       "        'SUETER TIPO POLO MANGA CORTA PARA DAMA',\n",
       "        'CAMISA MANGA LARGA PARA NIÑO', 'PANTALÓN CORTO PARA NIÑO',\n",
       "        'VISERA  PARA CABALLERO', 'JACKET  PARA CABALLERO',\n",
       "        'BERMUDAS PARA CABALLERO', 'PANTALON CORTO PARA CABAL',\n",
       "        'VESTIDO DE BAðO PARA CABA', 'SUETER CUELLO REDONDO PAR',\n",
       "        'SUDADERA CON CAPUCHA PARA CABALLERO', 'BERMUDAS PARA DAMA',\n",
       "        'SUETER TIPO POLO PARA DAM', 'VESTIDOS PARA DAMA',\n",
       "        'VESTIDOS PARA NIðA', 'VESTIDO DE BAðO PARA NIðO',\n",
       "        'SUETER TIPO POLO PARA NIð', 'CONJUNTO DE PIJAMA',\n",
       "        'CAMISA PARA NINO', 'PANTALON CORTO PARA NIðOS',\n",
       "        'PANTALON PARA NIðO', 'GORRAS PARA CABALLERO',\n",
       "        'PACK DE 3 MEDIAS PARA CABALLERO', 'JACKETS PARA CABALLERO',\n",
       "        'T-SHIRT TIPO POLO MANGA CORTA PARA CABALLERO',\n",
       "        'PANTALON BERMUDA PARA CABALLERO',\n",
       "        'T-SHIRT MANGA CORTA  PARA CABALLERO',\n",
       "        'T-SHIRT MANGA CORTA CUELLO REDONDO PARA CABALLERO',\n",
       "        'T-SHIRT TIPO POLO MANGA CORTA PARA DAMA',\n",
       "        'ABRIGO CON CAPUCHA PARA DAMA',\n",
       "        'T-SHIRT MANGA CORTA CUELLO REDONDO PARA DAMA',\n",
       "        'T-SHIRT MANGA CORTA CUELLO V PARA DAMA', 'VESTIDO PARA NINO',\n",
       "        'CONJUNTO PARA NINO', 'SUETER MANGA LARGA PARA NINO',\n",
       "        'T-SHIRT TIPO POLO MANGA CORTA PARA NINO',\n",
       "        'VESTIDO DE BANO PARA NINO', 'T-SHIRT POLO MANGA CORTA PARA NINO',\n",
       "        'ABRIGO PARA NINO', 'T-SHIRT CUELLO REDONDO PARA NINO',\n",
       "        'T-SHIRT MANGA CORTA  PARA NINO', 'T-SHIRT MANGA CORTA PARA NINA',\n",
       "        'CAMISA MANGA LARGA PARA C', 'SUETER TIPO POLO PARA CAB',\n",
       "        'JACKET CUELLO V PARA CABA', 'PANTALON LARGO PARA CABAL',\n",
       "        'VESTIDO DE BA?O PARA CABA', 'CARDIGAN CUELLO V PARA CA',\n",
       "        'SUDADERA CON CAPUCHA PARA', 'T-SHIRT CUELLO V PARA DAM',\n",
       "        'CAMISA MANGA LARGA PARA D', 'VESTIDO PARA NI?A',\n",
       "        'CAMISA MANGA LARGA PARA N', 'SUETER TIPO POLO PARA NI?',\n",
       "        'PANTALON CORTO PARA NI?O', 'PANTALON LARGO PARA NI?O',\n",
       "        'SUETER TIPO POLO PARA NI?O', 'T-SHIRT PARA NI?O',\n",
       "        'CAMISA TIPO POLO PARA NINA',\n",
       "        '                                                  ',\n",
       "        'GORRA PARA DAMA', 'CAMISA MANGA LARGAPARA CABALLERO',\n",
       "        'PANTALON JEANS LARGO PARA CABALLERO', 'PANTALON LARGO PARA NINO',\n",
       "        'CAMISA POLO PARA NINO', 'CAMISA TIPO PO LO PARA NINO',\n",
       "        'GORRA  PARA DAMA', 'CAMISA TIPO POLO PARA CABALERO',\n",
       "        'SHORT DE BANO PARA CABALLERO',\n",
       "        'T-SHIRT  CUELLO REDONDO PARA DAMA',\n",
       "        'ABRIGO CON CAPUCHA PARA NINO', 'MEDIAS LARGAS PARA CABALLERO',\n",
       "        'MEDIAS CORTAS PARA CABALLERO', 'SUETER CUELLO V PARA CABALLERO',\n",
       "        'SUETER MANGA LARGA CUELLO REDONDO PARA CABALLERO',\n",
       "        'BRASIER DEPORTIVO PARA DAMA', 'CHAQUETA PARA DAMA',\n",
       "        'SUETER MANGA LARGA CUELLO REDONDO PARA DAMA', 'ROPA PARA BEBE',\n",
       "        'PULLOVER PARA NINO'], dtype=object),\n",
       " 'Color': array(['001', '031', '166', ..., 'IUT', 'IU9', 'T69'], dtype=object),\n",
       " 'No.Pedido': array([5590, 5595, 5597, 5599, 5600, 5601, 5616, 5617, 5618, 5619, 5624,\n",
       "        5626, 5627, 5630, 5631, 5635, 5620, 5625, 5594, 5608, 5636, 5642,\n",
       "        5695, 5696, 5699, 5706, 5770, 5692, 5615, 5651, 5610, 5698, 5500,\n",
       "        5509, 5510, 5709, 5604, 5700, 5511, 5514, 5579, 5513, 5515, 5643,\n",
       "        5623, 5605, 5504, 5505, 5506, 5507, 5508, 5775, 5621, 5622,    0,\n",
       "        5633, 6364, 6367, 6368, 6373, 6374, 6375, 6376, 6385, 6386, 6388,\n",
       "        6391, 6392, 6402, 6404, 6412, 6414, 6415, 6400, 6401, 6406, 6365,\n",
       "        6366, 6405, 6407, 6393, 6413, 6399, 6409, 6410, 7046, 7047, 7053,\n",
       "        7062, 7064, 7065, 7071, 7073, 7081, 7058, 7054, 7055, 7060, 7061,\n",
       "        7063, 7066, 7068, 7070, 7072, 7075, 7076, 7077, 7078, 7059, 7080,\n",
       "        7069, 7079, 7057, 7074, 7052, 7067, 7056, 7419, 7420, 7442, 7447,\n",
       "        7448, 7450, 7453, 7454, 7456, 7457, 7462, 7444, 7449, 7455, 7460,\n",
       "           1, 7859, 7863, 7864, 7868, 7869, 7870, 7875, 7876, 7877, 7878,\n",
       "        7880, 7881, 7867, 7871, 7874, 7879, 8168, 8176, 8177, 8182, 8183,\n",
       "        8187, 8190, 8191, 8194, 8195, 8178, 8180, 8202, 8205, 8710, 8713,\n",
       "        8715, 8725, 8727, 8730, 8732, 8736, 8737, 8738, 8744, 8747, 8750,\n",
       "        8712, 8729, 8731, 8741, 8723, 8774, 9065, 9066, 9090, 9093, 9095,\n",
       "        9096, 9097, 9098, 9100, 9101, 9105, 9104, 9106, 9121, 9122, 9092,\n",
       "        9107, 9102, 9103, 9099, 9094, 9661, 9664, 9666, 9667, 9673, 9674,\n",
       "        9680, 9682, 9652, 9662, 9663, 9670, 9678, 9684, 9685, 9672, 9671,\n",
       "        9668, 9669, 5219, 5257, 5184, 5185, 5199, 5200, 5201, 5204, 5211,\n",
       "        5187, 5188, 5205, 5218, 5220, 5222, 5229, 5231, 5232, 5283, 5213,\n",
       "        5237, 5212, 5302, 5285, 5181, 5241, 5221, 5305, 5294, 5278, 5279,\n",
       "        5290, 5223, 5210, 6054, 6055, 6057, 6064, 6073, 6075, 6079, 6084,\n",
       "        6085, 6087, 6088, 6102, 6105, 6130, 6043, 6050, 6061, 6062, 6070,\n",
       "        6076, 6080, 6089, 6091, 6093, 6094, 6095, 6103, 6118, 6120, 6078,\n",
       "        6074, 6104, 6012, 6014, 6016, 6018, 6024, 6025, 6027, 6037, 6049,\n",
       "        6022, 6042, 6038, 6005, 6007, 6011, 6019, 6020, 6030, 6004, 6015,\n",
       "        6573, 6588, 6591, 6592, 6596, 6598, 6599, 6605, 6607, 6608, 6614,\n",
       "        6615, 6619, 6620, 6621, 6622, 6627, 6628, 6623, 6584, 6585, 6594,\n",
       "        6597, 6616, 6618, 6564, 6581, 6617, 6536, 6541, 6542, 6543, 6544,\n",
       "        6546, 6549, 6552, 6556, 6557, 6539, 6545, 6547, 6551, 6554, 6555,\n",
       "        6550, 6553, 6548, 6578, 6625, 7198, 7206, 7208, 7209, 7210, 7212,\n",
       "        7220, 7228, 7229, 7230, 7236, 7204, 7205, 7207, 7214, 7215, 7218,\n",
       "        7224, 7226, 7227, 7232, 7237, 7239, 7245, 7194, 7192, 7213, 7235,\n",
       "        7225, 7234, 7233, 7242, 7243, 7244, 7246, 7633, 7667, 7668, 7674,\n",
       "        7675, 7676, 7678, 7679, 7682, 7683, 7646, 7680, 7681, 7995, 7997,\n",
       "        7999, 8001, 8003, 8004, 8005, 8006, 8008, 8009, 8012, 7998, 8007,\n",
       "        8420, 8426, 8433, 8434, 8437, 8441, 8446, 8448, 8469, 8408, 8415,\n",
       "        8442, 8428, 8449, 8429, 8431, 8864, 8865, 8866, 8871, 8874, 8875,\n",
       "        8878, 8879, 8881, 8882, 8883, 8884, 8885, 8886, 8889, 8892, 8893,\n",
       "        8876, 8873, 8890, 8877, 8895, 8887, 8888, 8896, 8894, 9412, 9420,\n",
       "        9421, 9428, 9431, 9432, 9433, 9434, 9411, 9423, 9426, 9427, 9430,\n",
       "        9436, 9424, 9435, 9419, 9422, 9429, 9437, 9425]),\n",
       " 'Tot_Piezas': array([ 12.,   6.,   4.,   1.,   2.,  10.,   3.,   5.,  20.,  15.,   8.,\n",
       "          7.,  29.,  48.,  45.,  25.,  24.,  21.,  84.,  55.,  30.,  37.,\n",
       "         28.,  36.,  18.,   9.,  11.,  16.,  13.,  53.,  54.,  27.,   0.,\n",
       "         17.,  41.,  14.,  81.,  72.,  22.,  63.,  32.,  35.,  26.,  34.,\n",
       "         19.,  38.,  80.,  64.,  56.,  50.,  52.,  88.,  33.,  40.,  42.,\n",
       "        160.,  78., 140.,  89.,  69., 145.,  49.,  39.,  43.,  96.,  61.,\n",
       "         70.,  46.,  51.,  44.,  90., 108.,  60.,  71.,  74.,  57.,  66.,\n",
       "         92., 107., 216.,  58., 144., 324., 136., 135.,  82., 105., 228.,\n",
       "        114., 191., 180., 132.,  76.,  65.,  75., 134.,  77.,  98., 104.,\n",
       "        156., 162., 204., 102., 155., 152.,  47., 128., 137., 110., 101.,\n",
       "        113., 130., 142., 158.,  68., 178., 198.,  67., 100.,  97., 138.,\n",
       "         87., 141.,  59.,  23., 106.,  31.,  62.,  91.,  86., 200., 660.,\n",
       "        434., 696., 700., 775., 749., 295., 419., 316., 322., 706., 710.,\n",
       "        648., 849., 690., 505., 150., 523., 680., 470., 309., 305., 506.,\n",
       "        206., 429., 126., 458., 170., 515., 459., 120.,  99., 175., 121.,\n",
       "        410., 320., 210., 201., 185., 245., 540., 537., 161., 165., 331.,\n",
       "        440., 390., 432., 430., 401., 445., 435., 421., 487., 510., 485.,\n",
       "        488., 386., 154., 340., 454., 292., 338., 350., 112., 115., 117.,\n",
       "        641., 647., 541., 550., 650., 536., 235., 285., 215., 360., 250.,\n",
       "        118., 111., 124., 212., 208., 205., 168.,  95., 315., 149., 116.,\n",
       "        194.,  73.,  85., 253., 249., 131., 281., 275., 172., 153., 125.,\n",
       "        109., 420., 381., 146., 133., 239., 240., 173., 220., 186., 225.,\n",
       "        148., 181., 265., 143., 257., 234., 258., 218., 243., 231., 233.,\n",
       "        236., 213., 129., 193., 255., 267., 260., 157., 127., 188.,  83.,\n",
       "        190., 179., 271.,  94.,  93., 122.,  79., 103., 177., 183., 159.,\n",
       "        139., 119., 147., 254., 256., 123., 226., 184., 209., 207., 151.,\n",
       "        300., 166., 171., 224., 222., 230., 223., 195., 174., 169., 164.,\n",
       "        202.]),\n",
       " 'Costo_Fabrica': array([ 15.65,  11.14,  16.71,  10.86,  13.31,  11.98,  11.22,   5.14,\n",
       "          3.93,   4.22,   5.75,   3.67,  34.59,  30.6 ,  31.93,  37.72,\n",
       "         34.79,  34.12,  25.93,  27.28,  26.45,  35.63,  25.95,  35.73,\n",
       "         40.52,  39.57,  32.13,  26.74,  30.02,  72.38,  73.35,  73.93,\n",
       "         66.53,  68.  ,  87.23,  42.58,  46.8 ,  31.47,  26.08,  25.28,\n",
       "         27.04,  22.29,  28.57,  17.14,  21.83,  27.13,  21.21,  28.73,\n",
       "         36.43,  41.41,  29.17,  46.1 ,  33.12,  31.91,  34.93,  29.34,\n",
       "         32.47,  19.95,  20.62,  16.29,  20.81,  16.96,  20.96,  20.46,\n",
       "         19.88,  22.35,  23.75,  17.3 ,  28.15,  23.19,  24.84,  41.91,\n",
       "         68.23,  64.15,  57.07,  47.77,  42.3 ,  36.84,  30.62,  30.44,\n",
       "         27.38,  16.9 ,  21.53,  26.61,  19.96,  21.29,  32.77,  54.7 ,\n",
       "         50.26,  48.9 ,  43.91,  53.22,  33.26,  53.09,  24.46,  21.58,\n",
       "         11.78,  18.56,  20.14,  26.6 ,  27.46,  14.84,  18.69,  15.71,\n",
       "         13.25,  11.62,  13.97,  51.79,  15.97,   5.51,  11.51,  31.39,\n",
       "         26.19,  41.24,  30.68,  28.66,  27.54,  38.8 ,  41.04,  85.74,\n",
       "         62.1 ,  79.84,  38.59,  27.29,  43.06,  39.75,  36.33,  27.03,\n",
       "         29.27,  17.62,  17.47,  20.2 ,  21.84,  13.65,  16.57,  24.56,\n",
       "         65.51,  49.13,  32.76,  28.  ,  35.49,  43.31,  43.67,  18.22,\n",
       "         33.53,  54.66,  28.71,  26.67,  26.55,  19.76,  20.15,  20.94,\n",
       "         30.2 ,  13.63,  16.36,  25.73,  24.53,  27.15,  10.65,   9.45,\n",
       "         15.  ,  22.11,  34.13,  30.03,  54.38,  56.42,  26.75,  24.44,\n",
       "         23.21,  42.01,  37.73,  28.67,  31.4 ,  48.44,  73.95,  54.72,\n",
       "         87.26,  34.09,  38.56,  35.3 ,  37.12,  24.04,  20.47,  27.14,\n",
       "         39.58,  29.18,  32.48,  32.66,  46.12,  41.42,  34.94,  36.44,\n",
       "         39.76,  16.94,  19.3 ,  17.82,  23.76,  20.79,  25.32,  23.2 ,\n",
       "         19.89,  68.25,  24.3 ,  29.1 ,  66.2 ,  36.86,  34.49,  40.95,\n",
       "         39.54,  40.53,  36.82,  33.13,  15.37,  33.54,  61.32,  54.68,\n",
       "         47.78,  42.26,  36.34,  28.72,  23.03,  14.73,  36.04,  15.6 ,\n",
       "         24.69,  18.57,  19.22,  17.26,  24.45,  19.21,  20.95,  15.72,\n",
       "         17.36,  13.98,  12.74,  18.58,  18.  ,  11.83,  14.43,   6.04,\n",
       "         24.57,  43.87,  35.94,  74.58,  81.34,  31.54,  24.5 ,  28.74,\n",
       "         31.92,  26.09,  32.46,  19.1 ,  17.74,  16.77,  38.21,  26.73,\n",
       "         29.28,  29.24,  19.57,  34.61,  45.04,  32.14,  33.33,  10.32,\n",
       "         14.1 ,  12.03,  18.7 ,   3.85,  10.26,   8.11,  10.12,  18.63,\n",
       "         14.64,   7.36,   5.03,  27.3 ,  33.46,  34.07,  35.5 ,  52.6 ,\n",
       "         45.45,  25.16,  39.13,  41.93,  31.62,  21.54,  19.11,  30.75,\n",
       "         48.32,  39.7 ,  26.18,  32.44,  14.61,  22.36,  15.39,  21.16,\n",
       "         22.71,  30.21,  13.3 ,  11.58,  33.85,  34.18,  52.84,  27.55,\n",
       "         25.94,  27.49,  44.73,  16.38,  24.85,  31.48,  41.37,  37.2 ,\n",
       "         27.94,  19.74,  19.15,  13.39,  12.13,  21.15,   6.99,   4.19,\n",
       "          5.59,  12.58,   6.63,  44.12,  46.05,  45.23,  82.36,  40.9 ,\n",
       "         34.91,  21.86,  26.06,  20.67,  27.99,  36.92,  31.28,  43.32,\n",
       "         45.28,  48.05,  26.51,  33.41,  22.04,  28.48,  72.67,  70.98,\n",
       "         38.13,  61.29,  51.36,  37.96,  54.2 ,  38.57,  39.4 ,  55.68,\n",
       "         36.4 ,  43.27,  26.81,  53.01,  57.98,  45.69,  34.9 ,  29.52,\n",
       "         50.07,  60.24,  13.66,  34.78,  15.44,  19.73,  21.2 ,  22.17,\n",
       "         22.92,  27.22,  28.2 ,  10.47,   8.84,  12.54,  15.4 ,  12.01,\n",
       "         15.32,  21.91,  16.5 ,  11.01,   5.47,   6.77,  33.74,  29.35,\n",
       "         46.65,  73.94,  54.94,  40.89,  39.6 ,  30.04,  46.6 ,  34.38,\n",
       "         20.76,  27.23,  27.05,  36.94,  38.49,  36.46,  28.16,  27.72,\n",
       "         27.19,  27.42,  26.94,  68.27,  50.02,  39.73,  50.76,  42.87,\n",
       "         42.33,  27.51,  22.69,  17.46,  18.15,   0.  ,  15.34,  10.92,\n",
       "         11.26,  15.01,  10.64,  10.99,   5.4 ,   3.82,   3.61,   4.14,\n",
       "         30.74,  26.54,  35.02,  79.83,  40.94,  30.82,  53.36,  32.68,\n",
       "         26.5 ,  25.15,  28.01,  16.8 ,  20.8 ,  28.17,  29.84,  28.59,\n",
       "         36.32,  39.74,  29.64,  19.56,  14.9 ,  16.63,  25.21,  51.85,\n",
       "         49.12,  27.45, 101.4 ,  59.62,  22.1 ,  11.2 ,  45.49,  18.2 ,\n",
       "         21.01,  12.6 ,  17.63,  20.08,  14.54,  19.61,  11.39,  15.3 ,\n",
       "         12.91,  11.9 ,  13.6 ,  41.33,  38.48,  29.86,  20.  ,  21.28,\n",
       "         25.72,  45.94,  39.49,  18.16,  15.82,   9.31,   4.24,  38.32,\n",
       "         24.43,  58.55,  27.73,  31.14,  32.49,  31.43,  48.03,  22.83,\n",
       "         26.86,  21.73,  29.99,  25.02,  46.11,  19.37,  20.37,  19.91,\n",
       "         24.12,  16.75,  32.97,  27.69,  33.88,  31.3 ,  12.57,  12.32,\n",
       "         24.68,  28.37,  10.31,  12.41,   9.41,   4.31,  27.95,  30.61,\n",
       "         33.91,  31.38,  60.63,  36.91,  31.42,  35.52,  38.61,  36.03,\n",
       "         19.87,  18.27,  29.79,  25.29,  35.48,  49.14,  31.52,  25.6 ,\n",
       "         23.52,  39.93,  25.04,  18.11,  19.31,  25.34,  27.34,  12.22,\n",
       "         13.96,  13.26,  14.68,  13.12,  17.05,  10.54,  34.31,  31.2 ,\n",
       "         62.01,  78.38,  27.39,  28.68,  40.77,  18.17,  32.1 ,  30.57,\n",
       "         30.69,  16.37,  32.72,  20.84,  18.9 ,  19.07,  26.59,  18.61,\n",
       "         21.03,  14.35,  35.56,  25.36,  39.24,  29.81,  12.05,  17.85,\n",
       "          5.92,   3.58,   4.09,  44.46,  41.99,  37.08,  27.11,  27.82,\n",
       "         32.37,  29.22,  23.28,  32.65,  25.81,  27.66,  23.97,  23.77,\n",
       "         51.71,  43.39,  34.99,  53.24,  31.12,  42.31,  48.91,  24.66,\n",
       "         14.27,  14.32,  11.91,  18.66,  13.34,   8.06,   4.11,   5.09,\n",
       "         51.22,  51.12,  23.59,  41.82,  37.52,  24.9 ,  25.64,  22.57,\n",
       "         16.24,  20.18,  29.88,  37.06,  29.46,  36.1 ,  21.87,  16.18,\n",
       "         14.36,  24.96,  25.98,  18.67,  25.23,  23.53,  14.94,  19.92,\n",
       "         33.4 ,  34.77,  48.25,  28.35,  29.93,  20.11,  26.37,  18.37,\n",
       "         29.65,  15.15,  18.28,  17.6 ,  18.52,  19.47,  15.74,  26.49,\n",
       "         10.49,  11.87,  13.82,  12.38,  13.18,  20.48,  17.76,  10.91,\n",
       "          4.96,   9.26,   5.15,  37.93,  37.49,  33.01,  46.09,  44.18,\n",
       "         42.86,  42.59,  47.82,  45.12,  78.73,  58.56,  76.91,  48.79,\n",
       "         46.4 ,  46.39,  45.65,  42.39,  34.29,  35.32,  23.15,  36.07,\n",
       "         25.46,  30.97,  45.48,  36.87,  25.05,  32.05,  26.65,  28.06,\n",
       "         24.64,  27.79,  28.92,  44.1 ,  65.54,  50.31,  47.38,  43.08,\n",
       "         44.72,  64.74,  57.99,  58.34,  69.01,  58.02,  50.94,  57.65,\n",
       "         70.81,  57.03,  31.85,  63.93,  29.83,  44.42,  62.21,  54.45,\n",
       "         69.5 ,  56.26,  12.95,  25.37,  24.8 ,  23.57,  42.07,  14.4 ,\n",
       "         16.26]),\n",
       " 'Precio_Venta': array([ 25. ,  19. ,  28. ,  18. ,  23. ,  20. ,   9. ,   7. ,  10. ,\n",
       "          6. ,  59. ,  52. ,  54. ,  64. ,  58. ,  44. ,  46. ,  45. ,\n",
       "         61. ,  69. ,  67. ,  55. ,  51. , 123. , 110. , 126. , 113. ,\n",
       "        116. , 148. ,  72. ,  78. ,  43. ,  38. ,  49. ,  29. ,  37. ,\n",
       "         42. ,  35. ,  48. ,  62. ,  65. ,  50. ,  56. ,  70. ,  34. ,\n",
       "         27. ,  36. ,  40. , 109. ,  97. ,  81. ,  63. ,  47. ,  93. ,\n",
       "         75. ,  73. ,  91. ,  57. ,  90. ,  32. ,  24. ,  88. ,   0. ,\n",
       "         53. ,  66. , 146. , 106. , 136. ,  68. ,  30. , 111. ,  84. ,\n",
       "         60. ,  74. ,  31. ,  41. ,  26. ,  16. ,  76. ,  77. ,  39. ,\n",
       "         33. , 114. , 102. ,  80. ,  71. ,   9.5, 124. ,  17. ,  14. ,\n",
       "         22. ,  21. ,  12. ,  83. ,  11. , 141. , 127. , 125. , 122. ,\n",
       "        105. ,  85. , 100. ,  86. ,  95. ,  15. ,  79. ,  82. ,  99. ,\n",
       "          1. , 135. , 112. ,  94. , 118. , 133. ,  92. , 107. , 108. ,\n",
       "          6.5,  39.5, 172. , 101. , 103. , 131. , 115. , 104. ,  98. ,\n",
       "        128. ,  96. ]),\n",
       " 'Pais_Producto': array(['CHINA', 'RUMANIA', 'VIETNAM', 'CHINA                    00042',\n",
       "        'MALASIA', 'INDONESIA', 'TUNISIA', 'PERU', 'EL SALVADO', 'FRANCIA',\n",
       "        'MARRUECOS', 'COREA DEL SUR', 'LITUANIA', 'EL SALVADOR', 'TUNEZ',\n",
       "        'BULGARIA', 'CAMBODIA', 'PORTUGAL', 'MAURICIO', 'TURQUIA',\n",
       "        'SRI LANKA', 'COLOMBIA', 'GUATEMALA', 'TAILANDIA', 'MADAGASCAR',\n",
       "        'CAMBOYA', 'EGIPTO', 'SERBIA', '                              ',\n",
       "        'PARAGUAY', 'MEXICO', 'ITALIA', 'BIELORUSIA', 'SERVIA'],\n",
       "       dtype=object),\n",
       " 'Cta_Cliente': array([1207097, 2313076, 2305201, 2319046, 2305222, 2319077, 2403005,\n",
       "        2214066, 2224074, 2224090, 2209051, 2218018, 2306225, 2319071,\n",
       "        2601001, 2305188,       0, 2316047, 2305185, 2325025, 2319052,\n",
       "        2000006, 1307011, 2305196, 2220157, 2305178, 2305219, 2319051,\n",
       "        2218028, 1307012, 2214097, 2214102, 1307082, 2220239, 2327373,\n",
       "        2401118, 2401117, 2327376, 2224094, 2201119, 2214118, 2218024,\n",
       "        2401112, 2220233, 2319066, 2326028, 2214054, 1220055, 2401100,\n",
       "        2313074, 1207086, 2312112, 2401116, 2401114, 2327377]),\n",
       " 'Nombre_Cliente': array(['RESERVA SUCURSALES', 'RIPOSTO,S.A.', 'MYL DE COLOMBIA,SAS',\n",
       "        'DIMARCOS-MARGARITA MA. GOMEZ', 'DG INVERSIONES SAS',\n",
       "        'BOUTIQUE DE LA FONTAINE LTDA.', 'CELL STAR DA VINCI ESTERPRISES',\n",
       "        'INVASA', 'ICOSAL S.A. DE C.V.', 'ICOSAL,S.A. AEROPUERT',\n",
       "        'INVERSIONES MONTIJO, S.A.', 'ALAVEL S.A.', 'REMOTEXBO, S.A.',\n",
       "        'IDAGO LIMITADA(OMAR IDARRAGA OSMAN)', 'OPTIKA, S.A.',\n",
       "        'MODAS Y DISENO', 'RES.CLIENTES INTERNACIONALES', 'PAR  LTDA.',\n",
       "        'GUTIERREZ HOYOS Y CIA. S EN C.S.', 'ALMACEN PRESIDENTE',\n",
       "        'SAAD Y CIA S.A.', 'IMEXIN,  S.  A.', 'LUIFERRARO,S A S',\n",
       "        'ALMACEN JERUSALEN', 'LINA MARIA HOYOS',\n",
       "        'RES. CLIENTES INTERNACIONALES', 'GENARO TORRES',\n",
       "        'ALMACENES FRANCINI LIMITADA', 'LUIFERRARO/LA COLINA',\n",
       "        'GABYSOL,S.A.', 'CORP.DE FRANQUICIAS CENTRO AMERICANA,S.A',\n",
       "        'RES.GABYN', 'RES.SUCURSALES SR.JACK', 'UN PAR S.A.S.',\n",
       "        'BOUTIQUE LACOSTE S.A.S', 'DISTRIBUIDORA RIMET HONDURAS, S.A.',\n",
       "        'DISTRIBUIDORA ATLANTIS', 'GUTIERREZ HOYOS S.A.S.',\n",
       "        'CELL STAR DA VINCI ENTERPRICES',\n",
       "        'IDAGO LIMITADA (OMAR IDARRAGA OSM)', 'INV.GABYN (2)',\n",
       "        'CITY MALL (DAVID)', 'BETESH BROTHERS, INC.',\n",
       "        'INVERSIONES GABYN,S.A.', 'ADN GROUP, S.A.',\n",
       "        '                                        ', 'RES. GABYN S.A.',\n",
       "        'INVERSIONES Y REPRES. SALAZAR 2015,C.A.', 'H&D COMPANY S.R.L',\n",
       "        'TIENDA DICONS SRL (SANTIAGO)', 'RESERVA GABYN',\n",
       "        'DISTRIBUIDORA 2224', 'JOSE N. BATARSE, S.A. DE C.V.',\n",
       "        'RES. GABYN', 'DISTRIBUIDORA 2224, C.A.', 'PIU MEIS S.R.L.',\n",
       "        'BENJAMIN ALEXIS MATUTE ESCOBAR-LAC.', 'TIENDA PALM',\n",
       "        'CELL STAR DA VINCI ENTERPRISES',\n",
       "        'YOUNG FASHION  RAMON HIPOLITO PEREZ', 'ELIAKIM,S.A.',\n",
       "        'ANDRES DAVILA', 'COSBA 2',\n",
       "        'INVERSIONES INTERNACIONALES S.DE R.L.', 'RESERVA IMEXIN, S.A.',\n",
       "        'ELVIS JUNIOR SRL', 'RIMET,S.A.', 'IMPERIA 01',\n",
       "        'ALMACENES FRANCINI S.A.S.', 'RESERVAS SUCURSALES',\n",
       "        'SONISAM SPORT CIA. LTDA', 'RES.GABYN(2)',\n",
       "        'ANDRES GOMEZ FASHION STORE SRL', 'TIENDA DICONS SRL (LA VEGA)',\n",
       "        'PHONE BOX, C.A.'], dtype=object),\n",
       " 'Estatus': array(['EN SISTEMA', 'EN PROCESO', '               ', 'EN BODEGA',\n",
       "        'EN PUERTO', '03/22/2024', '02/16/2024', '02/23/2024',\n",
       "        '02/14/2024', '02/19/2024', '03/08/2024', '02/09/2024'],\n",
       "       dtype=object),\n",
       " 'Plataforma': array(['ASIA', 'EUROPA', 'AMERICA', '               ', 'COLOMBIA',\n",
       "        'EUROMED', 'AMERICAS', '01122023'], dtype=object),\n",
       " 'familia': array(['RK', 'RA', 'CH', 'BH', 'HH', 'DH', 'FH', 'GH', 'L1212', 'L1230',\n",
       "        'L1312', 'PH', 'TH', 'WH', 'YH', 'AH', 'SH', 'AF', 'PF', 'TF',\n",
       "        'CF', 'BF', 'EF', 'HF', 'EJ', 'TJ', 'CJ', 'DJ', 'HJ', 'L1812',\n",
       "        'PJ', 'WJ', 'YJ', 'SF', '4J', 'SJ', 'RB', 'RE', 'DF', 'GJ', 'RF',\n",
       "        'MH', 'XH', 'XF', 'XJ', 'RL', 'L1264', 'FF', 'FJ', 'MJ', 'JJ',\n",
       "        '  ', 'GF', 'IF'], dtype=object)}"
      ]
     },
     "execution_count": 19,
     "metadata": {},
     "output_type": "execute_result"
    }
   ],
   "source": [
    "valores_unicos"
   ]
  },
  {
   "cell_type": "markdown",
   "id": "65db0b91",
   "metadata": {},
   "source": [
    "Se analizará columna por columna ya que se observan valores diferentes sólo por errores de escritura. También se reemplazarán los datos que son una cadena de texto vacío"
   ]
  },
  {
   "cell_type": "markdown",
   "id": "504f9bcf",
   "metadata": {},
   "source": [
    "## Filtrado de clientes que desde 2019 no realizan compras"
   ]
  },
  {
   "cell_type": "markdown",
   "id": "cbfa42f4",
   "metadata": {},
   "source": [
    "El objetivo es filtrar la base de datos para obtener sólo los clientes activos a partir del 2020.\n",
    "\n",
    "Pasos:\n",
    "\n",
    "1. Modificar columna colección para unificar escritura. Se reemplaza AW por FW\n",
    "\n",
    "2. Filtrar clientes que no compran desde 2019. Para esto:\n",
    "\n",
    "    1. se filtran las colecciones FW y SS desde 2020\n",
    "    2. calculo de los clientes activos (es decir que han realizado compras desde 2020)\n",
    "    3. Filtrado de dataset total para mantener sólo clientes activos (se mantienen compras desde 2016 pero sólo de los clientes activos)"
   ]
  },
  {
   "cell_type": "code",
   "execution_count": 20,
   "id": "f7aa35eb",
   "metadata": {},
   "outputs": [
    {
     "name": "stderr",
     "output_type": "stream",
     "text": [
      "/tmp/ipykernel_1070/1125347918.py:6: SettingWithCopyWarning: \n",
      "A value is trying to be set on a copy of a slice from a DataFrame.\n",
      "Try using .loc[row_indexer,col_indexer] = value instead\n",
      "\n",
      "See the caveats in the documentation: https://pandas.pydata.org/pandas-docs/stable/user_guide/indexing.html#returning-a-view-versus-a-copy\n",
      "  data_proces_status['Coleccion'] = data_proces_status['Coleccion'].apply(standardize_coleccion_name)\n"
     ]
    },
    {
     "data": {
      "text/plain": [
       "FW2018    6277\n",
       "FW2016    4096\n",
       "SS2024    3860\n",
       "SS2018    3550\n",
       "FW2024    3433\n",
       "SS2019    3414\n",
       "SS2016    3323\n",
       "FW2017    3115\n",
       "FW2022    2911\n",
       "SS2017    2752\n",
       "SS2023    2344\n",
       "FW2023    2337\n",
       "FW2019    2133\n",
       "SS2020    2076\n",
       "FW2020    1891\n",
       "SS2022    1591\n",
       "FW2021    1041\n",
       "SS2021     621\n",
       "Name: Coleccion, dtype: int64"
      ]
     },
     "execution_count": 20,
     "metadata": {},
     "output_type": "execute_result"
    }
   ],
   "source": [
    "# función para reemplazar 'AW' por 'FW'\n",
    "def standardize_coleccion_name(name):\n",
    "    return name.replace('AW', 'FW')\n",
    "\n",
    "# Aplicar la función a la columna 'Coleccion'\n",
    "data_proces_status['Coleccion'] = data_proces_status['Coleccion'].apply(standardize_coleccion_name)\n",
    "\n",
    "data_proces_status['Coleccion'].value_counts()"
   ]
  },
  {
   "cell_type": "code",
   "execution_count": 21,
   "id": "278e139b",
   "metadata": {},
   "outputs": [
    {
     "data": {
      "text/plain": [
       "array(['FW2016', 'FW2017', 'FW2018', 'FW2019', 'FW2020', 'FW2021',\n",
       "       'FW2022', 'FW2023', 'FW2024', 'SS2016', 'SS2017', 'SS2018',\n",
       "       'SS2019', 'SS2020', 'SS2021', 'SS2022', 'SS2023', 'SS2024'],\n",
       "      dtype=object)"
      ]
     },
     "execution_count": 21,
     "metadata": {},
     "output_type": "execute_result"
    }
   ],
   "source": [
    "# Identificar las colecciones válidas desde SS2020 en adelante\n",
    "colecciones_validas = data_proces_status['Coleccion'].unique()\n",
    "colecciones_validas"
   ]
  },
  {
   "cell_type": "code",
   "execution_count": 22,
   "id": "1fd2521c",
   "metadata": {},
   "outputs": [],
   "source": [
    "# Comprenhesion list donde se pasa a número los últimos dos caracteres de la columna Colección para filtrar las temporadas desde 2020\n",
    "colecciones_validas = [col for col in colecciones_validas if int(col[4:]) >= 20]"
   ]
  },
  {
   "cell_type": "code",
   "execution_count": 23,
   "id": "0381c2b7",
   "metadata": {},
   "outputs": [
    {
     "data": {
      "text/plain": [
       "['FW2020',\n",
       " 'FW2021',\n",
       " 'FW2022',\n",
       " 'FW2023',\n",
       " 'FW2024',\n",
       " 'SS2020',\n",
       " 'SS2021',\n",
       " 'SS2022',\n",
       " 'SS2023',\n",
       " 'SS2024']"
      ]
     },
     "execution_count": 23,
     "metadata": {},
     "output_type": "execute_result"
    }
   ],
   "source": [
    "colecciones_validas"
   ]
  },
  {
   "cell_type": "code",
   "execution_count": 24,
   "id": "7f9a288a",
   "metadata": {},
   "outputs": [],
   "source": [
    "# máscara booleana para las filas que tienen colecciones válidas\n",
    "mask = data_proces_status['Coleccion'].isin(colecciones_validas)"
   ]
  },
  {
   "cell_type": "code",
   "execution_count": 25,
   "id": "e97dd442",
   "metadata": {},
   "outputs": [],
   "source": [
    "# DataFrame para obtener solo las filas con colecciones válidas\n",
    "data_df_filtered = data_proces_status[mask]"
   ]
  },
  {
   "cell_type": "code",
   "execution_count": 26,
   "id": "b0e317f6",
   "metadata": {},
   "outputs": [
    {
     "data": {
      "text/html": [
       "<div>\n",
       "<style scoped>\n",
       "    .dataframe tbody tr th:only-of-type {\n",
       "        vertical-align: middle;\n",
       "    }\n",
       "\n",
       "    .dataframe tbody tr th {\n",
       "        vertical-align: top;\n",
       "    }\n",
       "\n",
       "    .dataframe thead th {\n",
       "        text-align: right;\n",
       "    }\n",
       "</style>\n",
       "<table border=\"1\" class=\"dataframe\">\n",
       "  <thead>\n",
       "    <tr style=\"text-align: right;\">\n",
       "      <th></th>\n",
       "      <th>Coleccion</th>\n",
       "      <th>Referencia</th>\n",
       "      <th>Descripcion</th>\n",
       "      <th>Color</th>\n",
       "      <th>No.Pedido</th>\n",
       "      <th>Tot_Piezas</th>\n",
       "      <th>Costo_Fabrica</th>\n",
       "      <th>Precio_Venta</th>\n",
       "      <th>Pais_Producto</th>\n",
       "      <th>Cta_Cliente</th>\n",
       "      <th>Nombre_Cliente</th>\n",
       "      <th>Estatus</th>\n",
       "      <th>Plataforma</th>\n",
       "      <th>familia</th>\n",
       "    </tr>\n",
       "  </thead>\n",
       "  <tbody>\n",
       "    <tr>\n",
       "      <th>18907</th>\n",
       "      <td>FW2020</td>\n",
       "      <td>RF6002</td>\n",
       "      <td>MASCARILLA DE USO NO QUIRURGICO</td>\n",
       "      <td>031</td>\n",
       "      <td>1</td>\n",
       "      <td>100.0</td>\n",
       "      <td>3.85</td>\n",
       "      <td>7.0</td>\n",
       "      <td>PERU</td>\n",
       "      <td>2000006</td>\n",
       "      <td>RES.CLIENTES INTERNACIONALES</td>\n",
       "      <td>EN SISTEMA</td>\n",
       "      <td></td>\n",
       "      <td>RF</td>\n",
       "    </tr>\n",
       "    <tr>\n",
       "      <th>18908</th>\n",
       "      <td>FW2020</td>\n",
       "      <td>RF6101</td>\n",
       "      <td>MASCARILLA DE USO NO QUIRURGICO</td>\n",
       "      <td>LAW</td>\n",
       "      <td>1</td>\n",
       "      <td>100.0</td>\n",
       "      <td>10.26</td>\n",
       "      <td>18.0</td>\n",
       "      <td>PERU</td>\n",
       "      <td>2000006</td>\n",
       "      <td>RES.CLIENTES INTERNACIONALES</td>\n",
       "      <td>EN SISTEMA</td>\n",
       "      <td></td>\n",
       "      <td>RF</td>\n",
       "    </tr>\n",
       "    <tr>\n",
       "      <th>18909</th>\n",
       "      <td>FW2020</td>\n",
       "      <td>RF6103</td>\n",
       "      <td>MASCARILLA DE USO NO QUIRURGICO</td>\n",
       "      <td>LAW</td>\n",
       "      <td>1</td>\n",
       "      <td>100.0</td>\n",
       "      <td>10.26</td>\n",
       "      <td>18.0</td>\n",
       "      <td>FRANCIA</td>\n",
       "      <td>2000006</td>\n",
       "      <td>RES.CLIENTES INTERNACIONALES</td>\n",
       "      <td>EN SISTEMA</td>\n",
       "      <td></td>\n",
       "      <td>RF</td>\n",
       "    </tr>\n",
       "    <tr>\n",
       "      <th>18910</th>\n",
       "      <td>FW2020</td>\n",
       "      <td>RF6123</td>\n",
       "      <td>MASCARILLA DE USO NO QUIRURGICO</td>\n",
       "      <td>2BE</td>\n",
       "      <td>1</td>\n",
       "      <td>41.0</td>\n",
       "      <td>8.11</td>\n",
       "      <td>14.0</td>\n",
       "      <td>FRANCIA</td>\n",
       "      <td>2000006</td>\n",
       "      <td>RES.CLIENTES INTERNACIONALES</td>\n",
       "      <td>EN SISTEMA</td>\n",
       "      <td></td>\n",
       "      <td>RF</td>\n",
       "    </tr>\n",
       "    <tr>\n",
       "      <th>18921</th>\n",
       "      <td>FW2020</td>\n",
       "      <td>RK2321</td>\n",
       "      <td>GORRA PARA CABALLERO</td>\n",
       "      <td>031</td>\n",
       "      <td>7859</td>\n",
       "      <td>24.0</td>\n",
       "      <td>15.65</td>\n",
       "      <td>26.0</td>\n",
       "      <td>CHINA</td>\n",
       "      <td>1307082</td>\n",
       "      <td>INVERSIONES GABYN,S.A.</td>\n",
       "      <td>EN SISTEMA</td>\n",
       "      <td>ASIA</td>\n",
       "      <td>RK</td>\n",
       "    </tr>\n",
       "  </tbody>\n",
       "</table>\n",
       "</div>"
      ],
      "text/plain": [
       "      Coleccion Referencia                      Descripcion Color  No.Pedido  \\\n",
       "18907    FW2020     RF6002  MASCARILLA DE USO NO QUIRURGICO   031          1   \n",
       "18908    FW2020     RF6101  MASCARILLA DE USO NO QUIRURGICO   LAW          1   \n",
       "18909    FW2020     RF6103  MASCARILLA DE USO NO QUIRURGICO   LAW          1   \n",
       "18910    FW2020     RF6123  MASCARILLA DE USO NO QUIRURGICO   2BE          1   \n",
       "18921    FW2020     RK2321             GORRA PARA CABALLERO   031       7859   \n",
       "\n",
       "       Tot_Piezas  Costo_Fabrica  Precio_Venta Pais_Producto  Cta_Cliente  \\\n",
       "18907       100.0           3.85           7.0          PERU      2000006   \n",
       "18908       100.0          10.26          18.0          PERU      2000006   \n",
       "18909       100.0          10.26          18.0       FRANCIA      2000006   \n",
       "18910        41.0           8.11          14.0       FRANCIA      2000006   \n",
       "18921        24.0          15.65          26.0         CHINA      1307082   \n",
       "\n",
       "                     Nombre_Cliente     Estatus       Plataforma familia  \n",
       "18907  RES.CLIENTES INTERNACIONALES  EN SISTEMA                       RF  \n",
       "18908  RES.CLIENTES INTERNACIONALES  EN SISTEMA                       RF  \n",
       "18909  RES.CLIENTES INTERNACIONALES  EN SISTEMA                       RF  \n",
       "18910  RES.CLIENTES INTERNACIONALES  EN SISTEMA                       RF  \n",
       "18921        INVERSIONES GABYN,S.A.  EN SISTEMA             ASIA      RK  "
      ]
     },
     "execution_count": 26,
     "metadata": {},
     "output_type": "execute_result"
    }
   ],
   "source": [
    "data_df_filtered.head()"
   ]
  },
  {
   "cell_type": "code",
   "execution_count": 27,
   "id": "5c389c12",
   "metadata": {},
   "outputs": [],
   "source": [
    "# Obtener una lista de clientes activos (que han comprado desde SS2019)\n",
    "clientes_activos = data_df_filtered['Nombre_Cliente'].unique()"
   ]
  },
  {
   "cell_type": "code",
   "execution_count": 28,
   "id": "c3823b77",
   "metadata": {},
   "outputs": [
    {
     "data": {
      "text/plain": [
       "array(['RES.CLIENTES INTERNACIONALES', 'INVERSIONES GABYN,S.A.',\n",
       "       'RIPOSTO,S.A.', 'CELL STAR DA VINCI ENTERPRICES',\n",
       "       'ALMACEN JERUSALEN', 'RES.SUCURSALES SR.JACK',\n",
       "       'ICOSAL S.A. DE C.V.', 'ADN GROUP, S.A.',\n",
       "       'INVERSIONES MONTIJO, S.A.', 'REMOTEXBO, S.A.',\n",
       "       'DISTRIBUIDORA ATLANTIS', 'DISTRIBUIDORA RIMET HONDURAS, S.A.',\n",
       "       'ICOSAL,S.A. AEROPUERT', 'OPTIKA, S.A.', 'CITY MALL (DAVID)',\n",
       "       '                                        ', 'RES. GABYN S.A.',\n",
       "       'CORP.DE FRANQUICIAS CENTRO AMERICANA,S.A',\n",
       "       'INVERSIONES Y REPRES. SALAZAR 2015,C.A.', 'H&D COMPANY S.R.L',\n",
       "       'TIENDA DICONS SRL (SANTIAGO)', 'RESERVA GABYN',\n",
       "       'DISTRIBUIDORA 2224', 'JOSE N. BATARSE, S.A. DE C.V.',\n",
       "       'RES. GABYN', 'DISTRIBUIDORA 2224, C.A.', 'PIU MEIS S.R.L.',\n",
       "       'BENJAMIN ALEXIS MATUTE ESCOBAR-LAC.', 'TIENDA PALM',\n",
       "       'CELL STAR DA VINCI ENTERPRISES',\n",
       "       'YOUNG FASHION  RAMON HIPOLITO PEREZ',\n",
       "       'RES. CLIENTES INTERNACIONALES', 'RES.GABYN(2)',\n",
       "       'ANDRES GOMEZ FASHION STORE SRL', 'TIENDA DICONS SRL (LA VEGA)',\n",
       "       'PHONE BOX, C.A.', 'RES.GABYN'], dtype=object)"
      ]
     },
     "execution_count": 28,
     "metadata": {},
     "output_type": "execute_result"
    }
   ],
   "source": [
    "clientes_activos"
   ]
  },
  {
   "cell_type": "code",
   "execution_count": 29,
   "id": "8b7b5480",
   "metadata": {},
   "outputs": [
    {
     "data": {
      "text/plain": [
       "37"
      ]
     },
     "execution_count": 29,
     "metadata": {},
     "output_type": "execute_result"
    }
   ],
   "source": [
    "len(clientes_activos)"
   ]
  },
  {
   "cell_type": "code",
   "execution_count": 30,
   "id": "19d1d618",
   "metadata": {},
   "outputs": [
    {
     "data": {
      "text/plain": [
       "SS2024    3860\n",
       "FW2024    3433\n",
       "FW2022    2911\n",
       "SS2023    2344\n",
       "FW2023    2337\n",
       "SS2020    2076\n",
       "FW2020    1891\n",
       "SS2022    1591\n",
       "FW2021    1041\n",
       "SS2021     621\n",
       "Name: Coleccion, dtype: int64"
      ]
     },
     "execution_count": 30,
     "metadata": {},
     "output_type": "execute_result"
    }
   ],
   "source": [
    "data_df_filtered['Coleccion'].value_counts()"
   ]
  },
  {
   "cell_type": "code",
   "execution_count": 31,
   "id": "f3959f88",
   "metadata": {},
   "outputs": [],
   "source": [
    "# Filtrar el DataFrame original para mantener solo los registros de clientes activos\n",
    "data_df_final = data_proces_status[data_proces_status['Nombre_Cliente'].isin(clientes_activos)]"
   ]
  },
  {
   "cell_type": "code",
   "execution_count": 32,
   "id": "29cc7ee7",
   "metadata": {},
   "outputs": [
    {
     "data": {
      "text/plain": [
       "SS2024    3860\n",
       "FW2018    3560\n",
       "FW2024    3433\n",
       "FW2022    2911\n",
       "SS2023    2344\n",
       "FW2023    2337\n",
       "SS2020    2076\n",
       "FW2020    1891\n",
       "FW2019    1826\n",
       "SS2019    1621\n",
       "SS2022    1591\n",
       "SS2018    1408\n",
       "FW2016    1349\n",
       "FW2017    1097\n",
       "FW2021    1041\n",
       "SS2017     850\n",
       "SS2016     822\n",
       "SS2021     621\n",
       "Name: Coleccion, dtype: int64"
      ]
     },
     "execution_count": 32,
     "metadata": {},
     "output_type": "execute_result"
    }
   ],
   "source": [
    "data_df_final['Coleccion'].value_counts()"
   ]
  },
  {
   "cell_type": "code",
   "execution_count": 33,
   "id": "82605d85",
   "metadata": {},
   "outputs": [
    {
     "data": {
      "text/plain": [
       "(34638, 14)"
      ]
     },
     "execution_count": 33,
     "metadata": {},
     "output_type": "execute_result"
    }
   ],
   "source": [
    "data_df_final.shape"
   ]
  },
  {
   "cell_type": "code",
   "execution_count": 34,
   "id": "3c27574e",
   "metadata": {},
   "outputs": [
    {
     "data": {
      "text/plain": [
       "16127"
      ]
     },
     "execution_count": 34,
     "metadata": {},
     "output_type": "execute_result"
    }
   ],
   "source": [
    "compras_eliminadas = data_proces_status.shape[0] - data_df_final.shape[0]\n",
    "compras_eliminadas"
   ]
  },
  {
   "cell_type": "code",
   "execution_count": 35,
   "id": "99e5c929",
   "metadata": {},
   "outputs": [
    {
     "data": {
      "text/plain": [
       "['RIPOSTO,S.A.',\n",
       " 'ICOSAL S.A. DE C.V.',\n",
       " 'ICOSAL,S.A. AEROPUERT',\n",
       " 'INVERSIONES MONTIJO, S.A.',\n",
       " 'REMOTEXBO, S.A.',\n",
       " 'OPTIKA, S.A.',\n",
       " 'RES.CLIENTES INTERNACIONALES',\n",
       " 'ALMACEN JERUSALEN',\n",
       " 'RES. CLIENTES INTERNACIONALES',\n",
       " 'CORP.DE FRANQUICIAS CENTRO AMERICANA,S.A',\n",
       " 'RES.GABYN',\n",
       " 'RES.SUCURSALES SR.JACK',\n",
       " 'DISTRIBUIDORA RIMET HONDURAS, S.A.',\n",
       " 'DISTRIBUIDORA ATLANTIS',\n",
       " 'CELL STAR DA VINCI ENTERPRICES',\n",
       " 'CITY MALL (DAVID)',\n",
       " 'INVERSIONES GABYN,S.A.',\n",
       " 'ADN GROUP, S.A.',\n",
       " '                                        ',\n",
       " 'RES. GABYN S.A.',\n",
       " 'INVERSIONES Y REPRES. SALAZAR 2015,C.A.',\n",
       " 'H&D COMPANY S.R.L',\n",
       " 'TIENDA DICONS SRL (SANTIAGO)',\n",
       " 'RESERVA GABYN',\n",
       " 'DISTRIBUIDORA 2224',\n",
       " 'JOSE N. BATARSE, S.A. DE C.V.',\n",
       " 'RES. GABYN',\n",
       " 'DISTRIBUIDORA 2224, C.A.',\n",
       " 'PIU MEIS S.R.L.',\n",
       " 'BENJAMIN ALEXIS MATUTE ESCOBAR-LAC.',\n",
       " 'TIENDA PALM',\n",
       " 'CELL STAR DA VINCI ENTERPRISES',\n",
       " 'YOUNG FASHION  RAMON HIPOLITO PEREZ',\n",
       " 'RES.GABYN(2)',\n",
       " 'ANDRES GOMEZ FASHION STORE SRL',\n",
       " 'TIENDA DICONS SRL (LA VEGA)',\n",
       " 'PHONE BOX, C.A.']"
      ]
     },
     "execution_count": 35,
     "metadata": {},
     "output_type": "execute_result"
    }
   ],
   "source": [
    "# valores únicos de la columna 'Nombre_Cliente' en el DataFrame filtrado\n",
    "clientes_restantes = data_df_final['Nombre_Cliente'].unique()\n",
    "\n",
    "# Convertir a lista para mejor visualización \n",
    "lista_clientes_restantes = list(clientes_restantes)\n",
    "\n",
    "lista_clientes_restantes"
   ]
  },
  {
   "cell_type": "code",
   "execution_count": 36,
   "id": "e20d49f2",
   "metadata": {},
   "outputs": [
    {
     "data": {
      "text/plain": [
       "37"
      ]
     },
     "execution_count": 36,
     "metadata": {},
     "output_type": "execute_result"
    }
   ],
   "source": [
    "len(lista_clientes_restantes)"
   ]
  },
  {
   "cell_type": "markdown",
   "id": "419d9823",
   "metadata": {},
   "source": [
    "## Análisis por columna. Ajustes"
   ]
  },
  {
   "cell_type": "markdown",
   "id": "6850ceca",
   "metadata": {},
   "source": [
    "### Ajustes columnas \"Pais Productor\""
   ]
  },
  {
   "cell_type": "code",
   "execution_count": 37,
   "id": "17c321fc",
   "metadata": {},
   "outputs": [
    {
     "data": {
      "text/plain": [
       "array(['CHINA', 'RUMANIA', 'CHINA                    00042', 'VIETNAM',\n",
       "       'INDONESIA', 'TUNISIA', 'PERU', 'EL SALVADO', 'MALASIA', 'FRANCIA',\n",
       "       'MARRUECOS', 'COREA DEL SUR', 'LITUANIA', 'EL SALVADOR', 'TUNEZ',\n",
       "       'BULGARIA', 'CAMBODIA', 'PORTUGAL', 'MAURICIO', 'TURQUIA',\n",
       "       'SRI LANKA', 'COLOMBIA', 'GUATEMALA', 'TAILANDIA', 'MADAGASCAR',\n",
       "       'CAMBOYA', 'EGIPTO', 'SERBIA', '                              ',\n",
       "       'PARAGUAY', 'MEXICO', 'ITALIA', 'SERVIA'], dtype=object)"
      ]
     },
     "execution_count": 37,
     "metadata": {},
     "output_type": "execute_result"
    }
   ],
   "source": [
    "data_df_final['Pais_Producto'].unique()"
   ]
  },
  {
   "cell_type": "code",
   "execution_count": 38,
   "id": "00a3db7a",
   "metadata": {},
   "outputs": [],
   "source": [
    "import string\n",
    "import re\n",
    "\n",
    "def basic_text_preprocess(sentence):\n",
    "    \"\"\"Función que realiza limpieza de texto. Incluye limpieza básica: eliminar espacios, pasar a minúscula,\n",
    "    eliminar números y puntuación\"\"\"\n",
    "    sentence = sentence.strip() #elimina espacios\n",
    "    sentence = sentence.lower() #pasa texto a minúscula\n",
    "    sentence = ''.join(char for char in sentence if not char.isdigit()) #elimina números\n",
    "\n",
    "    for punctuation in string.punctuation:\n",
    "        sentence = sentence.replace(punctuation, '') #elimina puntuaciones\n",
    "        \n",
    "    # Eliminar espacios duplicados resultantes de las sustituciones\n",
    "    sentence = re.sub(r'\\s+', ' ', sentence).strip()\n",
    "        \n",
    "    return sentence"
   ]
  },
  {
   "cell_type": "code",
   "execution_count": 39,
   "id": "0addedab",
   "metadata": {},
   "outputs": [
    {
     "data": {
      "text/plain": [
       "(34638, 14)"
      ]
     },
     "execution_count": 39,
     "metadata": {},
     "output_type": "execute_result"
    }
   ],
   "source": [
    "data_df_final.shape"
   ]
  },
  {
   "cell_type": "code",
   "execution_count": 40,
   "id": "de892cd0",
   "metadata": {},
   "outputs": [
    {
     "name": "stderr",
     "output_type": "stream",
     "text": [
      "/tmp/ipykernel_1070/817777505.py:1: SettingWithCopyWarning: \n",
      "A value is trying to be set on a copy of a slice from a DataFrame.\n",
      "Try using .loc[row_indexer,col_indexer] = value instead\n",
      "\n",
      "See the caveats in the documentation: https://pandas.pydata.org/pandas-docs/stable/user_guide/indexing.html#returning-a-view-versus-a-copy\n",
      "  data_df_final['Pais_Producto'] = data_df_final['Pais_Producto'].apply(basic_text_preprocess)\n"
     ]
    }
   ],
   "source": [
    "data_df_final['Pais_Producto'] = data_df_final['Pais_Producto'].apply(basic_text_preprocess)"
   ]
  },
  {
   "cell_type": "code",
   "execution_count": 41,
   "id": "a39641dc",
   "metadata": {},
   "outputs": [
    {
     "data": {
      "text/html": [
       "<div>\n",
       "<style scoped>\n",
       "    .dataframe tbody tr th:only-of-type {\n",
       "        vertical-align: middle;\n",
       "    }\n",
       "\n",
       "    .dataframe tbody tr th {\n",
       "        vertical-align: top;\n",
       "    }\n",
       "\n",
       "    .dataframe thead th {\n",
       "        text-align: right;\n",
       "    }\n",
       "</style>\n",
       "<table border=\"1\" class=\"dataframe\">\n",
       "  <thead>\n",
       "    <tr style=\"text-align: right;\">\n",
       "      <th></th>\n",
       "      <th>Coleccion</th>\n",
       "      <th>Referencia</th>\n",
       "      <th>Descripcion</th>\n",
       "      <th>Color</th>\n",
       "      <th>No.Pedido</th>\n",
       "      <th>Tot_Piezas</th>\n",
       "      <th>Costo_Fabrica</th>\n",
       "      <th>Precio_Venta</th>\n",
       "      <th>Pais_Producto</th>\n",
       "      <th>Cta_Cliente</th>\n",
       "      <th>Nombre_Cliente</th>\n",
       "      <th>Estatus</th>\n",
       "      <th>Plataforma</th>\n",
       "      <th>familia</th>\n",
       "    </tr>\n",
       "  </thead>\n",
       "  <tbody>\n",
       "    <tr>\n",
       "      <th>2</th>\n",
       "      <td>FW2016</td>\n",
       "      <td>RK2321</td>\n",
       "      <td>GORRA LACOSTE PARA CABALLERO</td>\n",
       "      <td>001</td>\n",
       "      <td>5597</td>\n",
       "      <td>6.0</td>\n",
       "      <td>15.65</td>\n",
       "      <td>25.0</td>\n",
       "      <td>china</td>\n",
       "      <td>2313076</td>\n",
       "      <td>RIPOSTO,S.A.</td>\n",
       "      <td>EN SISTEMA</td>\n",
       "      <td>ASIA</td>\n",
       "      <td>RK</td>\n",
       "    </tr>\n",
       "    <tr>\n",
       "      <th>13</th>\n",
       "      <td>FW2016</td>\n",
       "      <td>RK2321</td>\n",
       "      <td>GORRA LACOSTE PARA CABALLERO</td>\n",
       "      <td>001</td>\n",
       "      <td>5630</td>\n",
       "      <td>2.0</td>\n",
       "      <td>15.65</td>\n",
       "      <td>25.0</td>\n",
       "      <td>china</td>\n",
       "      <td>2224074</td>\n",
       "      <td>ICOSAL S.A. DE C.V.</td>\n",
       "      <td>EN SISTEMA</td>\n",
       "      <td>ASIA</td>\n",
       "      <td>RK</td>\n",
       "    </tr>\n",
       "    <tr>\n",
       "      <th>14</th>\n",
       "      <td>FW2016</td>\n",
       "      <td>RK2321</td>\n",
       "      <td>GORRA LACOSTE PARA CABALLERO</td>\n",
       "      <td>001</td>\n",
       "      <td>5631</td>\n",
       "      <td>2.0</td>\n",
       "      <td>15.65</td>\n",
       "      <td>25.0</td>\n",
       "      <td>china</td>\n",
       "      <td>2224090</td>\n",
       "      <td>ICOSAL,S.A. AEROPUERT</td>\n",
       "      <td>EN SISTEMA</td>\n",
       "      <td>ASIA</td>\n",
       "      <td>RK</td>\n",
       "    </tr>\n",
       "    <tr>\n",
       "      <th>15</th>\n",
       "      <td>FW2016</td>\n",
       "      <td>RK2321</td>\n",
       "      <td>GORRA LACOSTE PARA CABALLERO</td>\n",
       "      <td>001</td>\n",
       "      <td>5635</td>\n",
       "      <td>5.0</td>\n",
       "      <td>15.65</td>\n",
       "      <td>25.0</td>\n",
       "      <td>china</td>\n",
       "      <td>2209051</td>\n",
       "      <td>INVERSIONES MONTIJO, S.A.</td>\n",
       "      <td>EN SISTEMA</td>\n",
       "      <td>ASIA</td>\n",
       "      <td>RK</td>\n",
       "    </tr>\n",
       "    <tr>\n",
       "      <th>18</th>\n",
       "      <td>FW2016</td>\n",
       "      <td>RK2321</td>\n",
       "      <td>GORRA LACOSTE PARA CABALLERO</td>\n",
       "      <td>031</td>\n",
       "      <td>5597</td>\n",
       "      <td>6.0</td>\n",
       "      <td>15.65</td>\n",
       "      <td>25.0</td>\n",
       "      <td>china</td>\n",
       "      <td>2313076</td>\n",
       "      <td>RIPOSTO,S.A.</td>\n",
       "      <td>EN SISTEMA</td>\n",
       "      <td>ASIA</td>\n",
       "      <td>RK</td>\n",
       "    </tr>\n",
       "  </tbody>\n",
       "</table>\n",
       "</div>"
      ],
      "text/plain": [
       "   Coleccion Referencia                   Descripcion Color  No.Pedido  \\\n",
       "2     FW2016     RK2321  GORRA LACOSTE PARA CABALLERO   001       5597   \n",
       "13    FW2016     RK2321  GORRA LACOSTE PARA CABALLERO   001       5630   \n",
       "14    FW2016     RK2321  GORRA LACOSTE PARA CABALLERO   001       5631   \n",
       "15    FW2016     RK2321  GORRA LACOSTE PARA CABALLERO   001       5635   \n",
       "18    FW2016     RK2321  GORRA LACOSTE PARA CABALLERO   031       5597   \n",
       "\n",
       "    Tot_Piezas  Costo_Fabrica  Precio_Venta Pais_Producto  Cta_Cliente  \\\n",
       "2          6.0          15.65          25.0         china      2313076   \n",
       "13         2.0          15.65          25.0         china      2224074   \n",
       "14         2.0          15.65          25.0         china      2224090   \n",
       "15         5.0          15.65          25.0         china      2209051   \n",
       "18         6.0          15.65          25.0         china      2313076   \n",
       "\n",
       "               Nombre_Cliente     Estatus Plataforma familia  \n",
       "2                RIPOSTO,S.A.  EN SISTEMA       ASIA      RK  \n",
       "13        ICOSAL S.A. DE C.V.  EN SISTEMA       ASIA      RK  \n",
       "14      ICOSAL,S.A. AEROPUERT  EN SISTEMA       ASIA      RK  \n",
       "15  INVERSIONES MONTIJO, S.A.  EN SISTEMA       ASIA      RK  \n",
       "18               RIPOSTO,S.A.  EN SISTEMA       ASIA      RK  "
      ]
     },
     "execution_count": 41,
     "metadata": {},
     "output_type": "execute_result"
    }
   ],
   "source": [
    "data_df_final.head()"
   ]
  },
  {
   "cell_type": "code",
   "execution_count": 42,
   "id": "ce746909",
   "metadata": {},
   "outputs": [
    {
     "data": {
      "text/plain": [
       "peru             13257\n",
       "china             5348\n",
       "turquia           2708\n",
       "tunez             2226\n",
       "vietnam           2150\n",
       "sri lanka         1700\n",
       "indonesia          990\n",
       "colombia           870\n",
       "cambodia           760\n",
       "camboya            698\n",
       "mauricio           678\n",
       "marruecos          474\n",
       "madagascar         459\n",
       "rumania            392\n",
       "francia            361\n",
       "paraguay           253\n",
       "guatemala          237\n",
       "el salvador        228\n",
       "tunisia            212\n",
       "malasia            195\n",
       "mexico              73\n",
       "serbia              66\n",
       "tailandia           65\n",
       "egipto              47\n",
       "el salvado          44\n",
       "                    38\n",
       "bulgaria            37\n",
       "servia              30\n",
       "lituania            24\n",
       "portugal            14\n",
       "corea del sur        2\n",
       "italia               2\n",
       "Name: Pais_Producto, dtype: int64"
      ]
     },
     "execution_count": 42,
     "metadata": {},
     "output_type": "execute_result"
    }
   ],
   "source": [
    "data_df_final['Pais_Producto'].value_counts()"
   ]
  },
  {
   "cell_type": "code",
   "execution_count": 43,
   "id": "c8bc0e18",
   "metadata": {},
   "outputs": [],
   "source": [
    "def replace_countries(sentence):\n",
    "    '''Función para corregir errores de tipeo identificado en el análisis de valores únicos'''\n",
    "    sentence = re.sub(r'\\bcambodia\\b', \"camboya\", sentence)\n",
    "    sentence = re.sub(r'\\bel salvado\\b', \"el salvador\", sentence)\n",
    "    sentence = re.sub(r'\\btunisia\\b', \"tunez\", sentence)\n",
    "    sentence = re.sub(r'\\bservia\\b', \"serbia\", sentence)\n",
    "    \n",
    "    return sentence"
   ]
  },
  {
   "cell_type": "code",
   "execution_count": 44,
   "id": "f2afb882",
   "metadata": {},
   "outputs": [
    {
     "name": "stderr",
     "output_type": "stream",
     "text": [
      "/tmp/ipykernel_1070/579472978.py:2: SettingWithCopyWarning: \n",
      "A value is trying to be set on a copy of a slice from a DataFrame.\n",
      "Try using .loc[row_indexer,col_indexer] = value instead\n",
      "\n",
      "See the caveats in the documentation: https://pandas.pydata.org/pandas-docs/stable/user_guide/indexing.html#returning-a-view-versus-a-copy\n",
      "  data_df_final['Pais_Producto_fil'] = data_df_final['Pais_Producto'].apply(replace_countries)\n"
     ]
    }
   ],
   "source": [
    "# Aplico función para corregir errores de escritura en columna \"Pais Productor\"\n",
    "data_df_final['Pais_Producto_fil'] = data_df_final['Pais_Producto'].apply(replace_countries)"
   ]
  },
  {
   "cell_type": "code",
   "execution_count": 45,
   "id": "522aa873",
   "metadata": {},
   "outputs": [
    {
     "data": {
      "text/plain": [
       "peru             13257\n",
       "china             5348\n",
       "turquia           2708\n",
       "tunez             2438\n",
       "vietnam           2150\n",
       "sri lanka         1700\n",
       "camboya           1458\n",
       "indonesia          990\n",
       "colombia           870\n",
       "mauricio           678\n",
       "marruecos          474\n",
       "madagascar         459\n",
       "rumania            392\n",
       "francia            361\n",
       "el salvador        272\n",
       "paraguay           253\n",
       "guatemala          237\n",
       "malasia            195\n",
       "serbia              96\n",
       "mexico              73\n",
       "tailandia           65\n",
       "egipto              47\n",
       "                    38\n",
       "bulgaria            37\n",
       "lituania            24\n",
       "portugal            14\n",
       "corea del sur        2\n",
       "italia               2\n",
       "Name: Pais_Producto_fil, dtype: int64"
      ]
     },
     "execution_count": 45,
     "metadata": {},
     "output_type": "execute_result"
    }
   ],
   "source": [
    "data_df_final['Pais_Producto_fil'].value_counts()"
   ]
  },
  {
   "cell_type": "code",
   "execution_count": 46,
   "id": "500f5ad9",
   "metadata": {},
   "outputs": [
    {
     "name": "stderr",
     "output_type": "stream",
     "text": [
      "/tmp/ipykernel_1070/1286013631.py:2: SettingWithCopyWarning: \n",
      "A value is trying to be set on a copy of a slice from a DataFrame.\n",
      "Try using .loc[row_indexer,col_indexer] = value instead\n",
      "\n",
      "See the caveats in the documentation: https://pandas.pydata.org/pandas-docs/stable/user_guide/indexing.html#returning-a-view-versus-a-copy\n",
      "  data_df_final['Pais_Producto_fil'] = data_df_final['Pais_Producto_fil'].str.replace(r'^\\s*$', 'sin dato', regex=True)\n"
     ]
    }
   ],
   "source": [
    "# Se observa que hay filas vacías que no son datos nulos, en este caso, se reemplaza por \"sin dato\"\n",
    "data_df_final['Pais_Producto_fil'] = data_df_final['Pais_Producto_fil'].str.replace(r'^\\s*$', 'sin dato', regex=True)"
   ]
  },
  {
   "cell_type": "code",
   "execution_count": 47,
   "id": "05ffe82d",
   "metadata": {},
   "outputs": [
    {
     "data": {
      "text/plain": [
       "peru             13257\n",
       "china             5348\n",
       "turquia           2708\n",
       "tunez             2438\n",
       "vietnam           2150\n",
       "sri lanka         1700\n",
       "camboya           1458\n",
       "indonesia          990\n",
       "colombia           870\n",
       "mauricio           678\n",
       "marruecos          474\n",
       "madagascar         459\n",
       "rumania            392\n",
       "francia            361\n",
       "el salvador        272\n",
       "paraguay           253\n",
       "guatemala          237\n",
       "malasia            195\n",
       "serbia              96\n",
       "mexico              73\n",
       "tailandia           65\n",
       "egipto              47\n",
       "sin dato            38\n",
       "bulgaria            37\n",
       "lituania            24\n",
       "portugal            14\n",
       "corea del sur        2\n",
       "italia               2\n",
       "Name: Pais_Producto_fil, dtype: int64"
      ]
     },
     "execution_count": 47,
     "metadata": {},
     "output_type": "execute_result"
    }
   ],
   "source": [
    "data_df_final['Pais_Producto_fil'].value_counts()"
   ]
  },
  {
   "cell_type": "markdown",
   "id": "5d8b6543",
   "metadata": {},
   "source": [
    "### Ajustes columnas \"Cliente\""
   ]
  },
  {
   "cell_type": "markdown",
   "id": "78db1d27",
   "metadata": {},
   "source": [
    "Ajustes a realizar:\n",
    "1. Analizar si cada cliente tiene asociado un número de cuenta único\n",
    "2. Realizar ajustes en escritura\n",
    "3. Resolver casos con datos en blanco (cadena de texto vacía)"
   ]
  },
  {
   "cell_type": "code",
   "execution_count": 48,
   "id": "aa6c1f38",
   "metadata": {},
   "outputs": [
    {
     "data": {
      "text/html": [
       "<div>\n",
       "<style scoped>\n",
       "    .dataframe tbody tr th:only-of-type {\n",
       "        vertical-align: middle;\n",
       "    }\n",
       "\n",
       "    .dataframe tbody tr th {\n",
       "        vertical-align: top;\n",
       "    }\n",
       "\n",
       "    .dataframe thead th {\n",
       "        text-align: right;\n",
       "    }\n",
       "</style>\n",
       "<table border=\"1\" class=\"dataframe\">\n",
       "  <thead>\n",
       "    <tr style=\"text-align: right;\">\n",
       "      <th></th>\n",
       "      <th>Coleccion</th>\n",
       "      <th>Referencia</th>\n",
       "      <th>Descripcion</th>\n",
       "      <th>Color</th>\n",
       "      <th>No.Pedido</th>\n",
       "      <th>Tot_Piezas</th>\n",
       "      <th>Costo_Fabrica</th>\n",
       "      <th>Precio_Venta</th>\n",
       "      <th>Pais_Producto</th>\n",
       "      <th>Cta_Cliente</th>\n",
       "      <th>Nombre_Cliente</th>\n",
       "      <th>Estatus</th>\n",
       "      <th>Plataforma</th>\n",
       "      <th>familia</th>\n",
       "      <th>Pais_Producto_fil</th>\n",
       "    </tr>\n",
       "  </thead>\n",
       "  <tbody>\n",
       "    <tr>\n",
       "      <th>2</th>\n",
       "      <td>FW2016</td>\n",
       "      <td>RK2321</td>\n",
       "      <td>GORRA LACOSTE PARA CABALLERO</td>\n",
       "      <td>001</td>\n",
       "      <td>5597</td>\n",
       "      <td>6.0</td>\n",
       "      <td>15.65</td>\n",
       "      <td>25.0</td>\n",
       "      <td>china</td>\n",
       "      <td>2313076</td>\n",
       "      <td>RIPOSTO,S.A.</td>\n",
       "      <td>EN SISTEMA</td>\n",
       "      <td>ASIA</td>\n",
       "      <td>RK</td>\n",
       "      <td>china</td>\n",
       "    </tr>\n",
       "    <tr>\n",
       "      <th>13</th>\n",
       "      <td>FW2016</td>\n",
       "      <td>RK2321</td>\n",
       "      <td>GORRA LACOSTE PARA CABALLERO</td>\n",
       "      <td>001</td>\n",
       "      <td>5630</td>\n",
       "      <td>2.0</td>\n",
       "      <td>15.65</td>\n",
       "      <td>25.0</td>\n",
       "      <td>china</td>\n",
       "      <td>2224074</td>\n",
       "      <td>ICOSAL S.A. DE C.V.</td>\n",
       "      <td>EN SISTEMA</td>\n",
       "      <td>ASIA</td>\n",
       "      <td>RK</td>\n",
       "      <td>china</td>\n",
       "    </tr>\n",
       "    <tr>\n",
       "      <th>14</th>\n",
       "      <td>FW2016</td>\n",
       "      <td>RK2321</td>\n",
       "      <td>GORRA LACOSTE PARA CABALLERO</td>\n",
       "      <td>001</td>\n",
       "      <td>5631</td>\n",
       "      <td>2.0</td>\n",
       "      <td>15.65</td>\n",
       "      <td>25.0</td>\n",
       "      <td>china</td>\n",
       "      <td>2224090</td>\n",
       "      <td>ICOSAL,S.A. AEROPUERT</td>\n",
       "      <td>EN SISTEMA</td>\n",
       "      <td>ASIA</td>\n",
       "      <td>RK</td>\n",
       "      <td>china</td>\n",
       "    </tr>\n",
       "    <tr>\n",
       "      <th>15</th>\n",
       "      <td>FW2016</td>\n",
       "      <td>RK2321</td>\n",
       "      <td>GORRA LACOSTE PARA CABALLERO</td>\n",
       "      <td>001</td>\n",
       "      <td>5635</td>\n",
       "      <td>5.0</td>\n",
       "      <td>15.65</td>\n",
       "      <td>25.0</td>\n",
       "      <td>china</td>\n",
       "      <td>2209051</td>\n",
       "      <td>INVERSIONES MONTIJO, S.A.</td>\n",
       "      <td>EN SISTEMA</td>\n",
       "      <td>ASIA</td>\n",
       "      <td>RK</td>\n",
       "      <td>china</td>\n",
       "    </tr>\n",
       "    <tr>\n",
       "      <th>18</th>\n",
       "      <td>FW2016</td>\n",
       "      <td>RK2321</td>\n",
       "      <td>GORRA LACOSTE PARA CABALLERO</td>\n",
       "      <td>031</td>\n",
       "      <td>5597</td>\n",
       "      <td>6.0</td>\n",
       "      <td>15.65</td>\n",
       "      <td>25.0</td>\n",
       "      <td>china</td>\n",
       "      <td>2313076</td>\n",
       "      <td>RIPOSTO,S.A.</td>\n",
       "      <td>EN SISTEMA</td>\n",
       "      <td>ASIA</td>\n",
       "      <td>RK</td>\n",
       "      <td>china</td>\n",
       "    </tr>\n",
       "  </tbody>\n",
       "</table>\n",
       "</div>"
      ],
      "text/plain": [
       "   Coleccion Referencia                   Descripcion Color  No.Pedido  \\\n",
       "2     FW2016     RK2321  GORRA LACOSTE PARA CABALLERO   001       5597   \n",
       "13    FW2016     RK2321  GORRA LACOSTE PARA CABALLERO   001       5630   \n",
       "14    FW2016     RK2321  GORRA LACOSTE PARA CABALLERO   001       5631   \n",
       "15    FW2016     RK2321  GORRA LACOSTE PARA CABALLERO   001       5635   \n",
       "18    FW2016     RK2321  GORRA LACOSTE PARA CABALLERO   031       5597   \n",
       "\n",
       "    Tot_Piezas  Costo_Fabrica  Precio_Venta Pais_Producto  Cta_Cliente  \\\n",
       "2          6.0          15.65          25.0         china      2313076   \n",
       "13         2.0          15.65          25.0         china      2224074   \n",
       "14         2.0          15.65          25.0         china      2224090   \n",
       "15         5.0          15.65          25.0         china      2209051   \n",
       "18         6.0          15.65          25.0         china      2313076   \n",
       "\n",
       "               Nombre_Cliente     Estatus Plataforma familia Pais_Producto_fil  \n",
       "2                RIPOSTO,S.A.  EN SISTEMA       ASIA      RK             china  \n",
       "13        ICOSAL S.A. DE C.V.  EN SISTEMA       ASIA      RK             china  \n",
       "14      ICOSAL,S.A. AEROPUERT  EN SISTEMA       ASIA      RK             china  \n",
       "15  INVERSIONES MONTIJO, S.A.  EN SISTEMA       ASIA      RK             china  \n",
       "18               RIPOSTO,S.A.  EN SISTEMA       ASIA      RK             china  "
      ]
     },
     "execution_count": 48,
     "metadata": {},
     "output_type": "execute_result"
    }
   ],
   "source": [
    "data_df_final.head()"
   ]
  },
  {
   "cell_type": "code",
   "execution_count": 49,
   "id": "a65e89fd",
   "metadata": {},
   "outputs": [
    {
     "data": {
      "text/plain": [
       "(34638, 15)"
      ]
     },
     "execution_count": 49,
     "metadata": {},
     "output_type": "execute_result"
    }
   ],
   "source": [
    "data_df_final.shape"
   ]
  },
  {
   "cell_type": "code",
   "execution_count": 50,
   "id": "5820106d",
   "metadata": {},
   "outputs": [
    {
     "data": {
      "text/plain": [
       "29"
      ]
     },
     "execution_count": 50,
     "metadata": {},
     "output_type": "execute_result"
    }
   ],
   "source": [
    "len(data_df_final['Cta_Cliente'].unique())"
   ]
  },
  {
   "cell_type": "markdown",
   "id": "a4b5022e",
   "metadata": {},
   "source": [
    "En el dataset filtrado tenemos **37** nombres de clientes distintos y **29** números de cuentas distintos.\n",
    "\n",
    "Calculamos la cantidad de nombres de clientes por número de Cuenta Cliente"
   ]
  },
  {
   "cell_type": "code",
   "execution_count": 63,
   "id": "9dcd13d8",
   "metadata": {},
   "outputs": [
    {
     "data": {
      "text/plain": [
       "[2313076,\n",
       " 2224074,\n",
       " 2224090,\n",
       " 2209051,\n",
       " 2306225,\n",
       " 2601001,\n",
       " 0,\n",
       " 2000006,\n",
       " 2220157,\n",
       " 2218028,\n",
       " 1307012,\n",
       " 1207097,\n",
       " 2214097,\n",
       " 2214102,\n",
       " 2403005,\n",
       " 2220239,\n",
       " 1307082,\n",
       " 2327373,\n",
       " 2401118,\n",
       " 2401117,\n",
       " 2327376,\n",
       " 2224094,\n",
       " 2201119,\n",
       " 2214118,\n",
       " 2218024,\n",
       " 2401112,\n",
       " 2401116,\n",
       " 2401114,\n",
       " 2327377]"
      ]
     },
     "execution_count": 63,
     "metadata": {},
     "output_type": "execute_result"
    }
   ],
   "source": [
    "# Calculo valores únicos de la columna 'Cta_Cliente' en el DataFrame filtrado final\n",
    "cuenta_cliente = data_df_final['Cta_Cliente'].unique()\n",
    "\n",
    "# Convertir a lista para mejor visualización \n",
    "lista_cuenta_cliente = list(cuenta_cliente)\n",
    "\n",
    "lista_cuenta_cliente"
   ]
  },
  {
   "cell_type": "code",
   "execution_count": 71,
   "id": "ebddc089",
   "metadata": {},
   "outputs": [
    {
     "data": {
      "text/plain": [
       "29"
      ]
     },
     "execution_count": 71,
     "metadata": {},
     "output_type": "execute_result"
    }
   ],
   "source": [
    "len(data_df_final['Cta_Cliente'].unique())"
   ]
  },
  {
   "cell_type": "code",
   "execution_count": 72,
   "id": "f662bafc",
   "metadata": {},
   "outputs": [],
   "source": [
    "# Loop para obtener los nombre de los clientes para cada cuenta cliente\n",
    "clientes_unicos = {}\n",
    "\n",
    "for num in cuenta_cliente:\n",
    "    #Filtrado de dataset para obtener todas las filas que coinciden con el número de cuenta\n",
    "    filas_cta_cliente = data_df_final[data_df_final['Cta_Cliente'] == num]\n",
    "    \n",
    "    #Obtenemos los nombres de clientes únicos \n",
    "    nombre_cliente = list(filas_cta_cliente['Nombre_Cliente'].unique())\n",
    "   \n",
    "    #Agregamos valor al diccionario donde key = cta cliente y valores es una lista de los nombre de clientes únicos\n",
    "    clientes_unicos[num] = nombre_cliente"
   ]
  },
  {
   "cell_type": "code",
   "execution_count": 74,
   "id": "1d463bf1",
   "metadata": {},
   "outputs": [
    {
     "data": {
      "text/plain": [
       "{2313076: ['RIPOSTO,S.A.'],\n",
       " 2224074: ['ICOSAL S.A. DE C.V.'],\n",
       " 2224090: ['ICOSAL,S.A. AEROPUERT'],\n",
       " 2209051: ['INVERSIONES MONTIJO, S.A.'],\n",
       " 2306225: ['REMOTEXBO, S.A.'],\n",
       " 2601001: ['OPTIKA, S.A.'],\n",
       " 0: ['RES.CLIENTES INTERNACIONALES',\n",
       "  'RES. CLIENTES INTERNACIONALES',\n",
       "  '                                        '],\n",
       " 2000006: ['RES.CLIENTES INTERNACIONALES', 'RES. CLIENTES INTERNACIONALES'],\n",
       " 2220157: ['ALMACEN JERUSALEN'],\n",
       " 2218028: ['CORP.DE FRANQUICIAS CENTRO AMERICANA,S.A', 'ADN GROUP, S.A.'],\n",
       " 1307012: ['RES.GABYN', 'RES. GABYN S.A.', 'RESERVA GABYN', 'RES. GABYN'],\n",
       " 1207097: ['RES.SUCURSALES SR.JACK',\n",
       "  'RES.GABYN(2)',\n",
       "  '                                        '],\n",
       " 2214097: ['DISTRIBUIDORA RIMET HONDURAS, S.A.'],\n",
       " 2214102: ['DISTRIBUIDORA ATLANTIS'],\n",
       " 2403005: ['CELL STAR DA VINCI ENTERPRICES', 'CELL STAR DA VINCI ENTERPRISES'],\n",
       " 2220239: ['CITY MALL (DAVID)'],\n",
       " 1307082: ['INVERSIONES GABYN,S.A.', 'RES.GABYN(2)'],\n",
       " 2327373: ['INVERSIONES Y REPRES. SALAZAR 2015,C.A.'],\n",
       " 2401118: ['H&D COMPANY S.R.L'],\n",
       " 2401117: ['TIENDA DICONS SRL (SANTIAGO)'],\n",
       " 2327376: ['DISTRIBUIDORA 2224', 'DISTRIBUIDORA 2224, C.A.'],\n",
       " 2224094: ['JOSE N. BATARSE, S.A. DE C.V.'],\n",
       " 2201119: ['PIU MEIS S.R.L.'],\n",
       " 2214118: ['BENJAMIN ALEXIS MATUTE ESCOBAR-LAC.'],\n",
       " 2218024: ['TIENDA PALM'],\n",
       " 2401112: ['YOUNG FASHION  RAMON HIPOLITO PEREZ'],\n",
       " 2401116: ['ANDRES GOMEZ FASHION STORE SRL'],\n",
       " 2401114: ['TIENDA DICONS SRL (LA VEGA)'],\n",
       " 2327377: ['PHONE BOX, C.A.']}"
      ]
     },
     "execution_count": 74,
     "metadata": {},
     "output_type": "execute_result"
    }
   ],
   "source": [
    "clientes_unicos"
   ]
  },
  {
   "cell_type": "code",
   "execution_count": 75,
   "id": "53fc70b9",
   "metadata": {},
   "outputs": [],
   "source": [
    "# Armamos diccionario con las cuentas clientes que tienen asociado más de 1 nombre cliente\n",
    "clientes_con_varios_nombres = {}\n",
    "\n",
    "for key,value in clientes_unicos.items():\n",
    "    if len(value) > 1:\n",
    "        nombres = list(value)\n",
    "        clientes_con_varios_nombres[key] = nombres"
   ]
  },
  {
   "cell_type": "code",
   "execution_count": 76,
   "id": "9dd67571",
   "metadata": {},
   "outputs": [
    {
     "data": {
      "text/plain": [
       "{0: ['RES.CLIENTES INTERNACIONALES',\n",
       "  'RES. CLIENTES INTERNACIONALES',\n",
       "  '                                        '],\n",
       " 2000006: ['RES.CLIENTES INTERNACIONALES', 'RES. CLIENTES INTERNACIONALES'],\n",
       " 2218028: ['CORP.DE FRANQUICIAS CENTRO AMERICANA,S.A', 'ADN GROUP, S.A.'],\n",
       " 1307012: ['RES.GABYN', 'RES. GABYN S.A.', 'RESERVA GABYN', 'RES. GABYN'],\n",
       " 1207097: ['RES.SUCURSALES SR.JACK',\n",
       "  'RES.GABYN(2)',\n",
       "  '                                        '],\n",
       " 2403005: ['CELL STAR DA VINCI ENTERPRICES', 'CELL STAR DA VINCI ENTERPRISES'],\n",
       " 1307082: ['INVERSIONES GABYN,S.A.', 'RES.GABYN(2)'],\n",
       " 2327376: ['DISTRIBUIDORA 2224', 'DISTRIBUIDORA 2224, C.A.']}"
      ]
     },
     "execution_count": 76,
     "metadata": {},
     "output_type": "execute_result"
    }
   ],
   "source": [
    "clientes_con_varios_nombres"
   ]
  },
  {
   "cell_type": "markdown",
   "id": "f92dbc61",
   "metadata": {},
   "source": [
    "En base al análisis anterior:\n",
    "1. Valor \"0\" pasa a '2000006' -- res. clientes internacionales\n",
    "2. El resto queda igual ya que son los mismos clientes, trabajaremos sobre **Cta. Cliente**"
   ]
  },
  {
   "cell_type": "code",
   "execution_count": 92,
   "id": "fa6b3caa",
   "metadata": {},
   "outputs": [
    {
     "name": "stderr",
     "output_type": "stream",
     "text": [
      "/tmp/ipykernel_1070/2464154037.py:2: SettingWithCopyWarning: \n",
      "A value is trying to be set on a copy of a slice from a DataFrame.\n",
      "Try using .loc[row_indexer,col_indexer] = value instead\n",
      "\n",
      "See the caveats in the documentation: https://pandas.pydata.org/pandas-docs/stable/user_guide/indexing.html#returning-a-view-versus-a-copy\n",
      "  data_df_final['Cta_Cliente_final'] = data_df_final['Cta_Cliente'].apply(lambda x: 2000006 if x == 0 else x)\n"
     ]
    }
   ],
   "source": [
    "#función lambda para cambiar 0 por valor 2000006\n",
    "data_df_final['Cta_Cliente_final'] = data_df_final['Cta_Cliente'].apply(lambda x: 2000006 if x == 0 else x)"
   ]
  },
  {
   "cell_type": "code",
   "execution_count": 93,
   "id": "51f6c7de",
   "metadata": {},
   "outputs": [
    {
     "data": {
      "text/html": [
       "<div>\n",
       "<style scoped>\n",
       "    .dataframe tbody tr th:only-of-type {\n",
       "        vertical-align: middle;\n",
       "    }\n",
       "\n",
       "    .dataframe tbody tr th {\n",
       "        vertical-align: top;\n",
       "    }\n",
       "\n",
       "    .dataframe thead th {\n",
       "        text-align: right;\n",
       "    }\n",
       "</style>\n",
       "<table border=\"1\" class=\"dataframe\">\n",
       "  <thead>\n",
       "    <tr style=\"text-align: right;\">\n",
       "      <th></th>\n",
       "      <th>Coleccion</th>\n",
       "      <th>Referencia</th>\n",
       "      <th>Descripcion</th>\n",
       "      <th>Color</th>\n",
       "      <th>No.Pedido</th>\n",
       "      <th>Tot_Piezas</th>\n",
       "      <th>Costo_Fabrica</th>\n",
       "      <th>Precio_Venta</th>\n",
       "      <th>Pais_Producto</th>\n",
       "      <th>Cta_Cliente</th>\n",
       "      <th>Nombre_Cliente</th>\n",
       "      <th>Estatus</th>\n",
       "      <th>Plataforma</th>\n",
       "      <th>familia</th>\n",
       "      <th>Pais_Producto_fil</th>\n",
       "      <th>Cta_Cliente_final</th>\n",
       "    </tr>\n",
       "  </thead>\n",
       "  <tbody>\n",
       "    <tr>\n",
       "      <th>2</th>\n",
       "      <td>FW2016</td>\n",
       "      <td>RK2321</td>\n",
       "      <td>GORRA LACOSTE PARA CABALLERO</td>\n",
       "      <td>001</td>\n",
       "      <td>5597</td>\n",
       "      <td>6.0</td>\n",
       "      <td>15.65</td>\n",
       "      <td>25.0</td>\n",
       "      <td>china</td>\n",
       "      <td>2313076</td>\n",
       "      <td>RIPOSTO,S.A.</td>\n",
       "      <td>EN SISTEMA</td>\n",
       "      <td>ASIA</td>\n",
       "      <td>RK</td>\n",
       "      <td>china</td>\n",
       "      <td>2313076</td>\n",
       "    </tr>\n",
       "    <tr>\n",
       "      <th>13</th>\n",
       "      <td>FW2016</td>\n",
       "      <td>RK2321</td>\n",
       "      <td>GORRA LACOSTE PARA CABALLERO</td>\n",
       "      <td>001</td>\n",
       "      <td>5630</td>\n",
       "      <td>2.0</td>\n",
       "      <td>15.65</td>\n",
       "      <td>25.0</td>\n",
       "      <td>china</td>\n",
       "      <td>2224074</td>\n",
       "      <td>ICOSAL S.A. DE C.V.</td>\n",
       "      <td>EN SISTEMA</td>\n",
       "      <td>ASIA</td>\n",
       "      <td>RK</td>\n",
       "      <td>china</td>\n",
       "      <td>2224074</td>\n",
       "    </tr>\n",
       "    <tr>\n",
       "      <th>14</th>\n",
       "      <td>FW2016</td>\n",
       "      <td>RK2321</td>\n",
       "      <td>GORRA LACOSTE PARA CABALLERO</td>\n",
       "      <td>001</td>\n",
       "      <td>5631</td>\n",
       "      <td>2.0</td>\n",
       "      <td>15.65</td>\n",
       "      <td>25.0</td>\n",
       "      <td>china</td>\n",
       "      <td>2224090</td>\n",
       "      <td>ICOSAL,S.A. AEROPUERT</td>\n",
       "      <td>EN SISTEMA</td>\n",
       "      <td>ASIA</td>\n",
       "      <td>RK</td>\n",
       "      <td>china</td>\n",
       "      <td>2224090</td>\n",
       "    </tr>\n",
       "    <tr>\n",
       "      <th>15</th>\n",
       "      <td>FW2016</td>\n",
       "      <td>RK2321</td>\n",
       "      <td>GORRA LACOSTE PARA CABALLERO</td>\n",
       "      <td>001</td>\n",
       "      <td>5635</td>\n",
       "      <td>5.0</td>\n",
       "      <td>15.65</td>\n",
       "      <td>25.0</td>\n",
       "      <td>china</td>\n",
       "      <td>2209051</td>\n",
       "      <td>INVERSIONES MONTIJO, S.A.</td>\n",
       "      <td>EN SISTEMA</td>\n",
       "      <td>ASIA</td>\n",
       "      <td>RK</td>\n",
       "      <td>china</td>\n",
       "      <td>2209051</td>\n",
       "    </tr>\n",
       "    <tr>\n",
       "      <th>18</th>\n",
       "      <td>FW2016</td>\n",
       "      <td>RK2321</td>\n",
       "      <td>GORRA LACOSTE PARA CABALLERO</td>\n",
       "      <td>031</td>\n",
       "      <td>5597</td>\n",
       "      <td>6.0</td>\n",
       "      <td>15.65</td>\n",
       "      <td>25.0</td>\n",
       "      <td>china</td>\n",
       "      <td>2313076</td>\n",
       "      <td>RIPOSTO,S.A.</td>\n",
       "      <td>EN SISTEMA</td>\n",
       "      <td>ASIA</td>\n",
       "      <td>RK</td>\n",
       "      <td>china</td>\n",
       "      <td>2313076</td>\n",
       "    </tr>\n",
       "  </tbody>\n",
       "</table>\n",
       "</div>"
      ],
      "text/plain": [
       "   Coleccion Referencia                   Descripcion Color  No.Pedido  \\\n",
       "2     FW2016     RK2321  GORRA LACOSTE PARA CABALLERO   001       5597   \n",
       "13    FW2016     RK2321  GORRA LACOSTE PARA CABALLERO   001       5630   \n",
       "14    FW2016     RK2321  GORRA LACOSTE PARA CABALLERO   001       5631   \n",
       "15    FW2016     RK2321  GORRA LACOSTE PARA CABALLERO   001       5635   \n",
       "18    FW2016     RK2321  GORRA LACOSTE PARA CABALLERO   031       5597   \n",
       "\n",
       "    Tot_Piezas  Costo_Fabrica  Precio_Venta Pais_Producto  Cta_Cliente  \\\n",
       "2          6.0          15.65          25.0         china      2313076   \n",
       "13         2.0          15.65          25.0         china      2224074   \n",
       "14         2.0          15.65          25.0         china      2224090   \n",
       "15         5.0          15.65          25.0         china      2209051   \n",
       "18         6.0          15.65          25.0         china      2313076   \n",
       "\n",
       "               Nombre_Cliente     Estatus Plataforma familia  \\\n",
       "2                RIPOSTO,S.A.  EN SISTEMA       ASIA      RK   \n",
       "13        ICOSAL S.A. DE C.V.  EN SISTEMA       ASIA      RK   \n",
       "14      ICOSAL,S.A. AEROPUERT  EN SISTEMA       ASIA      RK   \n",
       "15  INVERSIONES MONTIJO, S.A.  EN SISTEMA       ASIA      RK   \n",
       "18               RIPOSTO,S.A.  EN SISTEMA       ASIA      RK   \n",
       "\n",
       "   Pais_Producto_fil  Cta_Cliente_final  \n",
       "2              china            2313076  \n",
       "13             china            2224074  \n",
       "14             china            2224090  \n",
       "15             china            2209051  \n",
       "18             china            2313076  "
      ]
     },
     "execution_count": 93,
     "metadata": {},
     "output_type": "execute_result"
    }
   ],
   "source": [
    "data_df_final.head()"
   ]
  },
  {
   "cell_type": "code",
   "execution_count": 101,
   "id": "4adb642d",
   "metadata": {},
   "outputs": [
    {
     "data": {
      "text/plain": [
       "1207097    3608\n",
       "2313076    3527\n",
       "2224074    3291\n",
       "2209051    3218\n",
       "2000006    2335\n",
       "1307012    2096\n",
       "2306225    1960\n",
       "2214102    1885\n",
       "2220157    1834\n",
       "2214097    1610\n",
       "2218028    1511\n",
       "2403005    1378\n",
       "2224090    1193\n",
       "2327376     847\n",
       "2201119     825\n",
       "2601001     758\n",
       "2220239     606\n",
       "2224094     587\n",
       "1307082     529\n",
       "2218024     330\n",
       "2401117     222\n",
       "2401112     149\n",
       "2327373      84\n",
       "2401116      78\n",
       "2401118      69\n",
       "2401114      51\n",
       "2327377      38\n",
       "2214118      19\n",
       "Name: Cta_Cliente_final, dtype: int64"
      ]
     },
     "execution_count": 101,
     "metadata": {},
     "output_type": "execute_result"
    }
   ],
   "source": [
    "data_df_final['Cta_Cliente_final'].value_counts()"
   ]
  },
  {
   "cell_type": "code",
   "execution_count": 102,
   "id": "d62e8abe",
   "metadata": {},
   "outputs": [
    {
     "data": {
      "text/plain": [
       "(34638, 16)"
      ]
     },
     "execution_count": 102,
     "metadata": {},
     "output_type": "execute_result"
    }
   ],
   "source": [
    "data_df_final.shape"
   ]
  },
  {
   "cell_type": "markdown",
   "id": "0e2d141f",
   "metadata": {},
   "source": [
    "### Ajustes columnas \"Colección\""
   ]
  },
  {
   "cell_type": "markdown",
   "id": "fbcb0ac3",
   "metadata": {},
   "source": [
    "En este caso, vamos a realizar los siguientes pasos:\n",
    "1. Para incorporar el tiempo, se reemplaza SS por may + año y FW por nov + año\n",
    "2. Además hay que armar una columna sólo con SS y FW"
   ]
  },
  {
   "cell_type": "code",
   "execution_count": 105,
   "id": "5b9a3eaa",
   "metadata": {},
   "outputs": [
    {
     "name": "stderr",
     "output_type": "stream",
     "text": [
      "/tmp/ipykernel_1070/914806934.py:2: SettingWithCopyWarning: \n",
      "A value is trying to be set on a copy of a slice from a DataFrame.\n",
      "Try using .loc[row_indexer,col_indexer] = value instead\n",
      "\n",
      "See the caveats in the documentation: https://pandas.pydata.org/pandas-docs/stable/user_guide/indexing.html#returning-a-view-versus-a-copy\n",
      "  data_df_final['Temporada'] = data_df_final['Coleccion'].str.extract(r'(\\w{2})')\n"
     ]
    }
   ],
   "source": [
    "# Crear una nueva columna sólo con SS o FW según corresponda\n",
    "data_df_final['Temporada'] = data_df_final['Coleccion'].str.extract(r'(\\w{2})')"
   ]
  },
  {
   "cell_type": "code",
   "execution_count": 106,
   "id": "a6d36cf9",
   "metadata": {},
   "outputs": [
    {
     "data": {
      "text/html": [
       "<div>\n",
       "<style scoped>\n",
       "    .dataframe tbody tr th:only-of-type {\n",
       "        vertical-align: middle;\n",
       "    }\n",
       "\n",
       "    .dataframe tbody tr th {\n",
       "        vertical-align: top;\n",
       "    }\n",
       "\n",
       "    .dataframe thead th {\n",
       "        text-align: right;\n",
       "    }\n",
       "</style>\n",
       "<table border=\"1\" class=\"dataframe\">\n",
       "  <thead>\n",
       "    <tr style=\"text-align: right;\">\n",
       "      <th></th>\n",
       "      <th>Coleccion</th>\n",
       "      <th>Referencia</th>\n",
       "      <th>Descripcion</th>\n",
       "      <th>Color</th>\n",
       "      <th>No.Pedido</th>\n",
       "      <th>Tot_Piezas</th>\n",
       "      <th>Costo_Fabrica</th>\n",
       "      <th>Precio_Venta</th>\n",
       "      <th>Pais_Producto</th>\n",
       "      <th>Cta_Cliente</th>\n",
       "      <th>Nombre_Cliente</th>\n",
       "      <th>Estatus</th>\n",
       "      <th>Plataforma</th>\n",
       "      <th>familia</th>\n",
       "      <th>Pais_Producto_fil</th>\n",
       "      <th>Cta_Cliente_final</th>\n",
       "      <th>Temporada</th>\n",
       "    </tr>\n",
       "  </thead>\n",
       "  <tbody>\n",
       "    <tr>\n",
       "      <th>2</th>\n",
       "      <td>FW2016</td>\n",
       "      <td>RK2321</td>\n",
       "      <td>GORRA LACOSTE PARA CABALLERO</td>\n",
       "      <td>001</td>\n",
       "      <td>5597</td>\n",
       "      <td>6.0</td>\n",
       "      <td>15.65</td>\n",
       "      <td>25.0</td>\n",
       "      <td>china</td>\n",
       "      <td>2313076</td>\n",
       "      <td>RIPOSTO,S.A.</td>\n",
       "      <td>EN SISTEMA</td>\n",
       "      <td>ASIA</td>\n",
       "      <td>RK</td>\n",
       "      <td>china</td>\n",
       "      <td>2313076</td>\n",
       "      <td>FW</td>\n",
       "    </tr>\n",
       "    <tr>\n",
       "      <th>13</th>\n",
       "      <td>FW2016</td>\n",
       "      <td>RK2321</td>\n",
       "      <td>GORRA LACOSTE PARA CABALLERO</td>\n",
       "      <td>001</td>\n",
       "      <td>5630</td>\n",
       "      <td>2.0</td>\n",
       "      <td>15.65</td>\n",
       "      <td>25.0</td>\n",
       "      <td>china</td>\n",
       "      <td>2224074</td>\n",
       "      <td>ICOSAL S.A. DE C.V.</td>\n",
       "      <td>EN SISTEMA</td>\n",
       "      <td>ASIA</td>\n",
       "      <td>RK</td>\n",
       "      <td>china</td>\n",
       "      <td>2224074</td>\n",
       "      <td>FW</td>\n",
       "    </tr>\n",
       "    <tr>\n",
       "      <th>14</th>\n",
       "      <td>FW2016</td>\n",
       "      <td>RK2321</td>\n",
       "      <td>GORRA LACOSTE PARA CABALLERO</td>\n",
       "      <td>001</td>\n",
       "      <td>5631</td>\n",
       "      <td>2.0</td>\n",
       "      <td>15.65</td>\n",
       "      <td>25.0</td>\n",
       "      <td>china</td>\n",
       "      <td>2224090</td>\n",
       "      <td>ICOSAL,S.A. AEROPUERT</td>\n",
       "      <td>EN SISTEMA</td>\n",
       "      <td>ASIA</td>\n",
       "      <td>RK</td>\n",
       "      <td>china</td>\n",
       "      <td>2224090</td>\n",
       "      <td>FW</td>\n",
       "    </tr>\n",
       "    <tr>\n",
       "      <th>15</th>\n",
       "      <td>FW2016</td>\n",
       "      <td>RK2321</td>\n",
       "      <td>GORRA LACOSTE PARA CABALLERO</td>\n",
       "      <td>001</td>\n",
       "      <td>5635</td>\n",
       "      <td>5.0</td>\n",
       "      <td>15.65</td>\n",
       "      <td>25.0</td>\n",
       "      <td>china</td>\n",
       "      <td>2209051</td>\n",
       "      <td>INVERSIONES MONTIJO, S.A.</td>\n",
       "      <td>EN SISTEMA</td>\n",
       "      <td>ASIA</td>\n",
       "      <td>RK</td>\n",
       "      <td>china</td>\n",
       "      <td>2209051</td>\n",
       "      <td>FW</td>\n",
       "    </tr>\n",
       "    <tr>\n",
       "      <th>18</th>\n",
       "      <td>FW2016</td>\n",
       "      <td>RK2321</td>\n",
       "      <td>GORRA LACOSTE PARA CABALLERO</td>\n",
       "      <td>031</td>\n",
       "      <td>5597</td>\n",
       "      <td>6.0</td>\n",
       "      <td>15.65</td>\n",
       "      <td>25.0</td>\n",
       "      <td>china</td>\n",
       "      <td>2313076</td>\n",
       "      <td>RIPOSTO,S.A.</td>\n",
       "      <td>EN SISTEMA</td>\n",
       "      <td>ASIA</td>\n",
       "      <td>RK</td>\n",
       "      <td>china</td>\n",
       "      <td>2313076</td>\n",
       "      <td>FW</td>\n",
       "    </tr>\n",
       "  </tbody>\n",
       "</table>\n",
       "</div>"
      ],
      "text/plain": [
       "   Coleccion Referencia                   Descripcion Color  No.Pedido  \\\n",
       "2     FW2016     RK2321  GORRA LACOSTE PARA CABALLERO   001       5597   \n",
       "13    FW2016     RK2321  GORRA LACOSTE PARA CABALLERO   001       5630   \n",
       "14    FW2016     RK2321  GORRA LACOSTE PARA CABALLERO   001       5631   \n",
       "15    FW2016     RK2321  GORRA LACOSTE PARA CABALLERO   001       5635   \n",
       "18    FW2016     RK2321  GORRA LACOSTE PARA CABALLERO   031       5597   \n",
       "\n",
       "    Tot_Piezas  Costo_Fabrica  Precio_Venta Pais_Producto  Cta_Cliente  \\\n",
       "2          6.0          15.65          25.0         china      2313076   \n",
       "13         2.0          15.65          25.0         china      2224074   \n",
       "14         2.0          15.65          25.0         china      2224090   \n",
       "15         5.0          15.65          25.0         china      2209051   \n",
       "18         6.0          15.65          25.0         china      2313076   \n",
       "\n",
       "               Nombre_Cliente     Estatus Plataforma familia  \\\n",
       "2                RIPOSTO,S.A.  EN SISTEMA       ASIA      RK   \n",
       "13        ICOSAL S.A. DE C.V.  EN SISTEMA       ASIA      RK   \n",
       "14      ICOSAL,S.A. AEROPUERT  EN SISTEMA       ASIA      RK   \n",
       "15  INVERSIONES MONTIJO, S.A.  EN SISTEMA       ASIA      RK   \n",
       "18               RIPOSTO,S.A.  EN SISTEMA       ASIA      RK   \n",
       "\n",
       "   Pais_Producto_fil  Cta_Cliente_final Temporada  \n",
       "2              china            2313076        FW  \n",
       "13             china            2224074        FW  \n",
       "14             china            2224090        FW  \n",
       "15             china            2209051        FW  \n",
       "18             china            2313076        FW  "
      ]
     },
     "execution_count": 106,
     "metadata": {},
     "output_type": "execute_result"
    }
   ],
   "source": [
    "data_df_final.head()"
   ]
  },
  {
   "cell_type": "code",
   "execution_count": null,
   "id": "f9ab0bcb",
   "metadata": {},
   "outputs": [],
   "source": []
  },
  {
   "cell_type": "markdown",
   "id": "be965998",
   "metadata": {},
   "source": [
    "Pasos:\n",
    "\n",
    "1° duplicados, NaN, filtrar \"cancelados\", filtrar clientes que desde 2019 no compran\n",
    "\n",
    "2° Colección: SS -- 01-05-2016   -   FW -- 01-11-2016\n",
    "             Agregar 2 nueva columna SS o FW\n",
    "   Referencia -- Familia -- \"encoding\" (agregar columnas)\n",
    "   Total piezas (y - target)\n",
    "   país productor -- corregir texto con distinta escritura (Servia, Camboya) \n",
    "                  -- encoding\n",
    "   Cliente -- encoding\n",
    "   Plataforma -- encoding"
   ]
  },
  {
   "cell_type": "markdown",
   "id": "26af3dc0",
   "metadata": {},
   "source": [
    "función para reemplazar 'AW' con 'FW'\n",
    "def standardize_coleccion_name(name):\n",
    "    return name.replace('AW', 'FW')\n",
    "\n",
    "Aplicar la función a la columna 'Coleccion'\n",
    "data_proces_status['Coleccion'] = data_proces_status['Coleccion'].apply(standardize_coleccion_name)\n",
    "\n",
    "data_proces_status['Coleccion'].value_counts()"
   ]
  }
 ],
 "metadata": {
  "kernelspec": {
   "display_name": "Python 3 (ipykernel)",
   "language": "python",
   "name": "python3"
  },
  "language_info": {
   "codemirror_mode": {
    "name": "ipython",
    "version": 3
   },
   "file_extension": ".py",
   "mimetype": "text/x-python",
   "name": "python",
   "nbconvert_exporter": "python",
   "pygments_lexer": "ipython3",
   "version": "3.10.6"
  },
  "toc": {
   "base_numbering": 1,
   "nav_menu": {},
   "number_sections": true,
   "sideBar": true,
   "skip_h1_title": false,
   "title_cell": "Table of Contents",
   "title_sidebar": "Contents",
   "toc_cell": false,
   "toc_position": {},
   "toc_section_display": true,
   "toc_window_display": false
  }
 },
 "nbformat": 4,
 "nbformat_minor": 5
}
